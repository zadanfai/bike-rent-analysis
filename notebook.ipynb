{
 "cells": [
  {
   "cell_type": "markdown",
   "id": "0dd4a122-b9ea-44a6-81d8-f61b42f9da73",
   "metadata": {},
   "source": [
    "# Proyek Analisis Data: Bike Sharing Dataset\n",
    "\n",
    "- Nama: Zadan Fairuz Mahitala\n",
    "- Email: m314b4ky4587@bangkit.academy\n",
    "- ID Dicoding: zadanfai"
   ]
  },
  {
   "cell_type": "markdown",
   "id": "87bf3ac5-4479-4b28-9179-0baaab1d2040",
   "metadata": {},
   "source": [
    "## Menentukan Pertanyaan Bisnis\n",
    "\n",
    "- Apakah terdapat korelasi antara acara lokal & kondisi cuaca dengan lonjakan penyewaan sepeda casual yang teramati dalam data outlier?\n",
    "- Bagaimana kondisi cuaca dapat memengaruhi peningkatan penyewaan sepeda, baik untuk pengguna casual maupun registered?"
   ]
  },
  {
   "cell_type": "markdown",
   "id": "02411b37-f281-4b23-9614-7102e5dd40bb",
   "metadata": {},
   "source": [
    "## Import Semua Packages/Library yang Digunakan"
   ]
  },
  {
   "cell_type": "code",
   "execution_count": 1,
   "id": "54c48880-3f3f-4da9-a920-4c7cc465e8b1",
   "metadata": {},
   "outputs": [],
   "source": [
    "import pandas as pd\n",
    "import numpy as np\n",
    "import matplotlib.pyplot as plt\n",
    "import seaborn as sns"
   ]
  },
  {
   "cell_type": "markdown",
   "id": "b60dd7c5-cca6-4c0c-92b2-00b9e087669e",
   "metadata": {},
   "source": [
    "## Data Wrangling"
   ]
  },
  {
   "cell_type": "code",
   "execution_count": 2,
   "id": "83efd309-d97c-48b6-bc13-cea9e850cad9",
   "metadata": {},
   "outputs": [],
   "source": [
    "day_df = pd.read_csv('./data/day.csv')\n",
    "hour_df = pd.read_csv('./data/hour.csv')"
   ]
  },
  {
   "cell_type": "markdown",
   "id": "a8996aeb-7918-44f2-972c-7ebb8f8469c7",
   "metadata": {},
   "source": [
    "We need to read the dataset file and assigned it into each variables"
   ]
  },
  {
   "cell_type": "code",
   "execution_count": 3,
   "id": "b5e584d3-290d-4d92-abdc-3dbfa7c6f7c8",
   "metadata": {},
   "outputs": [
    {
     "data": {
      "text/html": [
       "<div>\n",
       "<style scoped>\n",
       "    .dataframe tbody tr th:only-of-type {\n",
       "        vertical-align: middle;\n",
       "    }\n",
       "\n",
       "    .dataframe tbody tr th {\n",
       "        vertical-align: top;\n",
       "    }\n",
       "\n",
       "    .dataframe thead th {\n",
       "        text-align: right;\n",
       "    }\n",
       "</style>\n",
       "<table border=\"1\" class=\"dataframe\">\n",
       "  <thead>\n",
       "    <tr style=\"text-align: right;\">\n",
       "      <th></th>\n",
       "      <th>instant</th>\n",
       "      <th>dteday</th>\n",
       "      <th>season</th>\n",
       "      <th>yr</th>\n",
       "      <th>mnth</th>\n",
       "      <th>holiday</th>\n",
       "      <th>weekday</th>\n",
       "      <th>workingday</th>\n",
       "      <th>weathersit</th>\n",
       "      <th>temp</th>\n",
       "      <th>atemp</th>\n",
       "      <th>hum</th>\n",
       "      <th>windspeed</th>\n",
       "      <th>casual</th>\n",
       "      <th>registered</th>\n",
       "      <th>cnt</th>\n",
       "    </tr>\n",
       "  </thead>\n",
       "  <tbody>\n",
       "    <tr>\n",
       "      <th>0</th>\n",
       "      <td>1</td>\n",
       "      <td>2011-01-01</td>\n",
       "      <td>1</td>\n",
       "      <td>0</td>\n",
       "      <td>1</td>\n",
       "      <td>0</td>\n",
       "      <td>6</td>\n",
       "      <td>0</td>\n",
       "      <td>2</td>\n",
       "      <td>0.344167</td>\n",
       "      <td>0.363625</td>\n",
       "      <td>0.805833</td>\n",
       "      <td>0.160446</td>\n",
       "      <td>331</td>\n",
       "      <td>654</td>\n",
       "      <td>985</td>\n",
       "    </tr>\n",
       "    <tr>\n",
       "      <th>1</th>\n",
       "      <td>2</td>\n",
       "      <td>2011-01-02</td>\n",
       "      <td>1</td>\n",
       "      <td>0</td>\n",
       "      <td>1</td>\n",
       "      <td>0</td>\n",
       "      <td>0</td>\n",
       "      <td>0</td>\n",
       "      <td>2</td>\n",
       "      <td>0.363478</td>\n",
       "      <td>0.353739</td>\n",
       "      <td>0.696087</td>\n",
       "      <td>0.248539</td>\n",
       "      <td>131</td>\n",
       "      <td>670</td>\n",
       "      <td>801</td>\n",
       "    </tr>\n",
       "    <tr>\n",
       "      <th>2</th>\n",
       "      <td>3</td>\n",
       "      <td>2011-01-03</td>\n",
       "      <td>1</td>\n",
       "      <td>0</td>\n",
       "      <td>1</td>\n",
       "      <td>0</td>\n",
       "      <td>1</td>\n",
       "      <td>1</td>\n",
       "      <td>1</td>\n",
       "      <td>0.196364</td>\n",
       "      <td>0.189405</td>\n",
       "      <td>0.437273</td>\n",
       "      <td>0.248309</td>\n",
       "      <td>120</td>\n",
       "      <td>1229</td>\n",
       "      <td>1349</td>\n",
       "    </tr>\n",
       "    <tr>\n",
       "      <th>3</th>\n",
       "      <td>4</td>\n",
       "      <td>2011-01-04</td>\n",
       "      <td>1</td>\n",
       "      <td>0</td>\n",
       "      <td>1</td>\n",
       "      <td>0</td>\n",
       "      <td>2</td>\n",
       "      <td>1</td>\n",
       "      <td>1</td>\n",
       "      <td>0.200000</td>\n",
       "      <td>0.212122</td>\n",
       "      <td>0.590435</td>\n",
       "      <td>0.160296</td>\n",
       "      <td>108</td>\n",
       "      <td>1454</td>\n",
       "      <td>1562</td>\n",
       "    </tr>\n",
       "    <tr>\n",
       "      <th>4</th>\n",
       "      <td>5</td>\n",
       "      <td>2011-01-05</td>\n",
       "      <td>1</td>\n",
       "      <td>0</td>\n",
       "      <td>1</td>\n",
       "      <td>0</td>\n",
       "      <td>3</td>\n",
       "      <td>1</td>\n",
       "      <td>1</td>\n",
       "      <td>0.226957</td>\n",
       "      <td>0.229270</td>\n",
       "      <td>0.436957</td>\n",
       "      <td>0.186900</td>\n",
       "      <td>82</td>\n",
       "      <td>1518</td>\n",
       "      <td>1600</td>\n",
       "    </tr>\n",
       "  </tbody>\n",
       "</table>\n",
       "</div>"
      ],
      "text/plain": [
       "   instant      dteday  season  yr  mnth  holiday  weekday  workingday  \\\n",
       "0        1  2011-01-01       1   0     1        0        6           0   \n",
       "1        2  2011-01-02       1   0     1        0        0           0   \n",
       "2        3  2011-01-03       1   0     1        0        1           1   \n",
       "3        4  2011-01-04       1   0     1        0        2           1   \n",
       "4        5  2011-01-05       1   0     1        0        3           1   \n",
       "\n",
       "   weathersit      temp     atemp       hum  windspeed  casual  registered  \\\n",
       "0           2  0.344167  0.363625  0.805833   0.160446     331         654   \n",
       "1           2  0.363478  0.353739  0.696087   0.248539     131         670   \n",
       "2           1  0.196364  0.189405  0.437273   0.248309     120        1229   \n",
       "3           1  0.200000  0.212122  0.590435   0.160296     108        1454   \n",
       "4           1  0.226957  0.229270  0.436957   0.186900      82        1518   \n",
       "\n",
       "    cnt  \n",
       "0   985  \n",
       "1   801  \n",
       "2  1349  \n",
       "3  1562  \n",
       "4  1600  "
      ]
     },
     "execution_count": 3,
     "metadata": {},
     "output_type": "execute_result"
    }
   ],
   "source": [
    "day_df.head()"
   ]
  },
  {
   "cell_type": "code",
   "execution_count": 4,
   "id": "062214ed-94d1-4c03-a694-e891721f7795",
   "metadata": {},
   "outputs": [
    {
     "data": {
      "text/html": [
       "<div>\n",
       "<style scoped>\n",
       "    .dataframe tbody tr th:only-of-type {\n",
       "        vertical-align: middle;\n",
       "    }\n",
       "\n",
       "    .dataframe tbody tr th {\n",
       "        vertical-align: top;\n",
       "    }\n",
       "\n",
       "    .dataframe thead th {\n",
       "        text-align: right;\n",
       "    }\n",
       "</style>\n",
       "<table border=\"1\" class=\"dataframe\">\n",
       "  <thead>\n",
       "    <tr style=\"text-align: right;\">\n",
       "      <th></th>\n",
       "      <th>instant</th>\n",
       "      <th>dteday</th>\n",
       "      <th>season</th>\n",
       "      <th>yr</th>\n",
       "      <th>mnth</th>\n",
       "      <th>hr</th>\n",
       "      <th>holiday</th>\n",
       "      <th>weekday</th>\n",
       "      <th>workingday</th>\n",
       "      <th>weathersit</th>\n",
       "      <th>temp</th>\n",
       "      <th>atemp</th>\n",
       "      <th>hum</th>\n",
       "      <th>windspeed</th>\n",
       "      <th>casual</th>\n",
       "      <th>registered</th>\n",
       "      <th>cnt</th>\n",
       "    </tr>\n",
       "  </thead>\n",
       "  <tbody>\n",
       "    <tr>\n",
       "      <th>0</th>\n",
       "      <td>1</td>\n",
       "      <td>2011-01-01</td>\n",
       "      <td>1</td>\n",
       "      <td>0</td>\n",
       "      <td>1</td>\n",
       "      <td>0</td>\n",
       "      <td>0</td>\n",
       "      <td>6</td>\n",
       "      <td>0</td>\n",
       "      <td>1</td>\n",
       "      <td>0.24</td>\n",
       "      <td>0.2879</td>\n",
       "      <td>0.81</td>\n",
       "      <td>0.0</td>\n",
       "      <td>3</td>\n",
       "      <td>13</td>\n",
       "      <td>16</td>\n",
       "    </tr>\n",
       "    <tr>\n",
       "      <th>1</th>\n",
       "      <td>2</td>\n",
       "      <td>2011-01-01</td>\n",
       "      <td>1</td>\n",
       "      <td>0</td>\n",
       "      <td>1</td>\n",
       "      <td>1</td>\n",
       "      <td>0</td>\n",
       "      <td>6</td>\n",
       "      <td>0</td>\n",
       "      <td>1</td>\n",
       "      <td>0.22</td>\n",
       "      <td>0.2727</td>\n",
       "      <td>0.80</td>\n",
       "      <td>0.0</td>\n",
       "      <td>8</td>\n",
       "      <td>32</td>\n",
       "      <td>40</td>\n",
       "    </tr>\n",
       "    <tr>\n",
       "      <th>2</th>\n",
       "      <td>3</td>\n",
       "      <td>2011-01-01</td>\n",
       "      <td>1</td>\n",
       "      <td>0</td>\n",
       "      <td>1</td>\n",
       "      <td>2</td>\n",
       "      <td>0</td>\n",
       "      <td>6</td>\n",
       "      <td>0</td>\n",
       "      <td>1</td>\n",
       "      <td>0.22</td>\n",
       "      <td>0.2727</td>\n",
       "      <td>0.80</td>\n",
       "      <td>0.0</td>\n",
       "      <td>5</td>\n",
       "      <td>27</td>\n",
       "      <td>32</td>\n",
       "    </tr>\n",
       "    <tr>\n",
       "      <th>3</th>\n",
       "      <td>4</td>\n",
       "      <td>2011-01-01</td>\n",
       "      <td>1</td>\n",
       "      <td>0</td>\n",
       "      <td>1</td>\n",
       "      <td>3</td>\n",
       "      <td>0</td>\n",
       "      <td>6</td>\n",
       "      <td>0</td>\n",
       "      <td>1</td>\n",
       "      <td>0.24</td>\n",
       "      <td>0.2879</td>\n",
       "      <td>0.75</td>\n",
       "      <td>0.0</td>\n",
       "      <td>3</td>\n",
       "      <td>10</td>\n",
       "      <td>13</td>\n",
       "    </tr>\n",
       "    <tr>\n",
       "      <th>4</th>\n",
       "      <td>5</td>\n",
       "      <td>2011-01-01</td>\n",
       "      <td>1</td>\n",
       "      <td>0</td>\n",
       "      <td>1</td>\n",
       "      <td>4</td>\n",
       "      <td>0</td>\n",
       "      <td>6</td>\n",
       "      <td>0</td>\n",
       "      <td>1</td>\n",
       "      <td>0.24</td>\n",
       "      <td>0.2879</td>\n",
       "      <td>0.75</td>\n",
       "      <td>0.0</td>\n",
       "      <td>0</td>\n",
       "      <td>1</td>\n",
       "      <td>1</td>\n",
       "    </tr>\n",
       "  </tbody>\n",
       "</table>\n",
       "</div>"
      ],
      "text/plain": [
       "   instant      dteday  season  yr  mnth  hr  holiday  weekday  workingday  \\\n",
       "0        1  2011-01-01       1   0     1   0        0        6           0   \n",
       "1        2  2011-01-01       1   0     1   1        0        6           0   \n",
       "2        3  2011-01-01       1   0     1   2        0        6           0   \n",
       "3        4  2011-01-01       1   0     1   3        0        6           0   \n",
       "4        5  2011-01-01       1   0     1   4        0        6           0   \n",
       "\n",
       "   weathersit  temp   atemp   hum  windspeed  casual  registered  cnt  \n",
       "0           1  0.24  0.2879  0.81        0.0       3          13   16  \n",
       "1           1  0.22  0.2727  0.80        0.0       8          32   40  \n",
       "2           1  0.22  0.2727  0.80        0.0       5          27   32  \n",
       "3           1  0.24  0.2879  0.75        0.0       3          10   13  \n",
       "4           1  0.24  0.2879  0.75        0.0       0           1    1  "
      ]
     },
     "execution_count": 4,
     "metadata": {},
     "output_type": "execute_result"
    }
   ],
   "source": [
    "hour_df.head()"
   ]
  },
  {
   "cell_type": "code",
   "execution_count": 5,
   "id": "6578a80c-b26d-49fd-aa4f-73759dab5482",
   "metadata": {},
   "outputs": [
    {
     "data": {
      "text/plain": [
       "Index(['instant', 'dteday', 'season', 'yr', 'mnth', 'holiday', 'weekday',\n",
       "       'workingday', 'weathersit', 'temp', 'atemp', 'hum', 'windspeed',\n",
       "       'casual', 'registered', 'cnt'],\n",
       "      dtype='object')"
      ]
     },
     "execution_count": 5,
     "metadata": {},
     "output_type": "execute_result"
    }
   ],
   "source": [
    "day_df.columns"
   ]
  },
  {
   "cell_type": "markdown",
   "id": "699e68fe-c25a-4c5e-9f00-55243a7cb56e",
   "metadata": {},
   "source": [
    "With using head() function we can see the top 4 data so we can see the bigger picture of two dataset, and so using .columns make it clearer to see the table columnd. Since both table have same columns i just check it once\n",
    "\n",
    "Next, im going to create the \"Data Dictionary\" to easily track the feature definition without looking back or called the dataframe over and over"
   ]
  },
  {
   "cell_type": "markdown",
   "id": "02368bcc-20dd-4e8b-b14e-64d7b0b19830",
   "metadata": {},
   "source": [
    "#### Data Dictionary:\n",
    "- **instant** = record index\n",
    "- **dteday**  = date\n",
    "- **season** = season (**1**: springer, **2**: summer, **3**: fall, **4**: winter)\n",
    "- **yr** = year (**0** :2011, **1** :2012)\n",
    "- **mnth** = month (0 to 12)\n",
    "- **hr** = hour (0 to 23)\n",
    "- **holiday** = whether day is holiday or not\n",
    "- **weekday** = day of the week\n",
    "- **workingday** = if day is neither weekend nor holiday is **\"1\"**, otherwise is **\"0\"**\n",
    "- **weathersit** =\n",
    "    - **1** : Clear, Few clouds, Partly cloud, Partly Cloudy\n",
    "    - **2** : Mist + Cloudy, Mist + Broken clouds, Mist + Few clouds, Mist\n",
    "    - **3** : Light Snow, Light Rain + Thunderstorm + Scattered clouds, Light Rain + Scattered clouds\n",
    "    - **4** : Heavy Rain + Ice Pallets + Thunderstorm + Mist, Snow + Fog\n",
    "- **temp** = Normalized temperature in Celcius. The values are divided to 41 (max)\n",
    "- **atemp** = Normalized feeling temperature in Celcius. The values are divided to 50 (max)\n",
    "- **hum** = Normalized humidity. The values are divided to 100 (max)\n",
    "- **windspeed** = Normalized wind speed. The values are divided to 67 (max)\n",
    "- **casual** = count of casual users\n",
    "- **registered** = count of registered users\n",
    "- **cnt** = count of total rental bikes including both casual and registered"
   ]
  },
  {
   "cell_type": "code",
   "execution_count": 6,
   "id": "3d5ca389-1e90-4d86-9932-ad6deac422af",
   "metadata": {},
   "outputs": [],
   "source": [
    "day_df2 = day_df.copy()\n",
    "hour_df2 = hour_df.copy()"
   ]
  },
  {
   "cell_type": "markdown",
   "id": "aa4c8d8a-7c8a-449f-8679-ef26af3b37cd",
   "metadata": {},
   "source": [
    "Before working on the dataset, i maked a copy both of them so in case there is any mistaken move i could easily back to the original dataset"
   ]
  },
  {
   "cell_type": "markdown",
   "id": "38f600c1-338a-453b-96a6-36890f480e24",
   "metadata": {},
   "source": [
    "### Assesing Data\n",
    "\n",
    "Next thing to do is assesing each data of two tables, here is the steps overview\n",
    "\n",
    "**Steps to do:**\n",
    "1. Treating missing values (state the reasoning)\n",
    "2. unique values (remove irrelevant values)\n",
    "3. Treating outliers if there's any\n",
    "4. Check duplicates, retain only the first record\n",
    "5. Check data & convert data types\n",
    "6. Check typos\n",
    "7. Check time series data\n",
    "8. Check logical errors if there's any"
   ]
  },
  {
   "cell_type": "code",
   "execution_count": 7,
   "id": "1f18c9c6-ade5-4331-8be8-f3f9461fdb40",
   "metadata": {},
   "outputs": [
    {
     "name": "stdout",
     "output_type": "stream",
     "text": [
      "<class 'pandas.core.frame.DataFrame'>\n",
      "RangeIndex: 731 entries, 0 to 730\n",
      "Data columns (total 16 columns):\n",
      " #   Column      Non-Null Count  Dtype  \n",
      "---  ------      --------------  -----  \n",
      " 0   instant     731 non-null    int64  \n",
      " 1   dteday      731 non-null    object \n",
      " 2   season      731 non-null    int64  \n",
      " 3   yr          731 non-null    int64  \n",
      " 4   mnth        731 non-null    int64  \n",
      " 5   holiday     731 non-null    int64  \n",
      " 6   weekday     731 non-null    int64  \n",
      " 7   workingday  731 non-null    int64  \n",
      " 8   weathersit  731 non-null    int64  \n",
      " 9   temp        731 non-null    float64\n",
      " 10  atemp       731 non-null    float64\n",
      " 11  hum         731 non-null    float64\n",
      " 12  windspeed   731 non-null    float64\n",
      " 13  casual      731 non-null    int64  \n",
      " 14  registered  731 non-null    int64  \n",
      " 15  cnt         731 non-null    int64  \n",
      "dtypes: float64(4), int64(11), object(1)\n",
      "memory usage: 91.5+ KB\n"
     ]
    }
   ],
   "source": [
    "day_df2.info()"
   ]
  },
  {
   "cell_type": "markdown",
   "id": "78bc22fa-5c31-47b9-80ba-53a02e6876e3",
   "metadata": {},
   "source": [
    "In the day_df table i realize that \"dteday\" data type should be date instead of object "
   ]
  },
  {
   "cell_type": "code",
   "execution_count": 8,
   "id": "471af7d5-f4ed-4230-b459-6c606e011705",
   "metadata": {},
   "outputs": [
    {
     "name": "stdout",
     "output_type": "stream",
     "text": [
      "<class 'pandas.core.frame.DataFrame'>\n",
      "RangeIndex: 17379 entries, 0 to 17378\n",
      "Data columns (total 17 columns):\n",
      " #   Column      Non-Null Count  Dtype  \n",
      "---  ------      --------------  -----  \n",
      " 0   instant     17379 non-null  int64  \n",
      " 1   dteday      17379 non-null  object \n",
      " 2   season      17379 non-null  int64  \n",
      " 3   yr          17379 non-null  int64  \n",
      " 4   mnth        17379 non-null  int64  \n",
      " 5   hr          17379 non-null  int64  \n",
      " 6   holiday     17379 non-null  int64  \n",
      " 7   weekday     17379 non-null  int64  \n",
      " 8   workingday  17379 non-null  int64  \n",
      " 9   weathersit  17379 non-null  int64  \n",
      " 10  temp        17379 non-null  float64\n",
      " 11  atemp       17379 non-null  float64\n",
      " 12  hum         17379 non-null  float64\n",
      " 13  windspeed   17379 non-null  float64\n",
      " 14  casual      17379 non-null  int64  \n",
      " 15  registered  17379 non-null  int64  \n",
      " 16  cnt         17379 non-null  int64  \n",
      "dtypes: float64(4), int64(12), object(1)\n",
      "memory usage: 2.3+ MB\n"
     ]
    }
   ],
   "source": [
    "hour_df2.info()"
   ]
  },
  {
   "cell_type": "markdown",
   "id": "a2b713aa-e949-4afb-8f64-d343a087ca7a",
   "metadata": {},
   "source": [
    "as well as the dteday data type in the hour_df table need to be converted\n",
    "\n",
    "next thing to check, is there any **missing value** in those tables"
   ]
  },
  {
   "cell_type": "markdown",
   "id": "19c67b0a-64fb-4ece-8944-2aed07ae4c25",
   "metadata": {},
   "source": [
    "##### Checking Missing Values"
   ]
  },
  {
   "cell_type": "code",
   "execution_count": 9,
   "id": "bf5f09ed-def8-4b2c-ba02-3e47d238a714",
   "metadata": {},
   "outputs": [
    {
     "data": {
      "text/plain": [
       "instant       0\n",
       "dteday        0\n",
       "season        0\n",
       "yr            0\n",
       "mnth          0\n",
       "holiday       0\n",
       "weekday       0\n",
       "workingday    0\n",
       "weathersit    0\n",
       "temp          0\n",
       "atemp         0\n",
       "hum           0\n",
       "windspeed     0\n",
       "casual        0\n",
       "registered    0\n",
       "cnt           0\n",
       "dtype: int64"
      ]
     },
     "execution_count": 9,
     "metadata": {},
     "output_type": "execute_result"
    }
   ],
   "source": [
    "day_df2.isna().sum()"
   ]
  },
  {
   "cell_type": "code",
   "execution_count": 10,
   "id": "0a4abf08-6651-47c1-9619-44a27c4e6b01",
   "metadata": {},
   "outputs": [
    {
     "data": {
      "text/plain": [
       "instant       0\n",
       "dteday        0\n",
       "season        0\n",
       "yr            0\n",
       "mnth          0\n",
       "hr            0\n",
       "holiday       0\n",
       "weekday       0\n",
       "workingday    0\n",
       "weathersit    0\n",
       "temp          0\n",
       "atemp         0\n",
       "hum           0\n",
       "windspeed     0\n",
       "casual        0\n",
       "registered    0\n",
       "cnt           0\n",
       "dtype: int64"
      ]
     },
     "execution_count": 10,
     "metadata": {},
     "output_type": "execute_result"
    }
   ],
   "source": [
    "hour_df2.isna().sum()"
   ]
  },
  {
   "cell_type": "markdown",
   "id": "d050fa19-3ee3-40d2-84cf-e4ede5d67456",
   "metadata": {},
   "source": [
    "After the check using **isna()** and **sum()** functions, it seems like both tables **dont have any missing values** in it\n",
    "\n",
    "The third step is we need to check if there is any duplicate data in both tables"
   ]
  },
  {
   "cell_type": "markdown",
   "id": "2f930a2f-bef4-4af9-a112-3349aa0bb8ad",
   "metadata": {},
   "source": [
    "#### Checking Duplicate data"
   ]
  },
  {
   "cell_type": "code",
   "execution_count": 11,
   "id": "eed8233c-41e4-458e-abd7-cd81610d1854",
   "metadata": {},
   "outputs": [
    {
     "data": {
      "text/plain": [
       "np.int64(0)"
      ]
     },
     "execution_count": 11,
     "metadata": {},
     "output_type": "execute_result"
    }
   ],
   "source": [
    "day_df2.duplicated(keep=False).sum()"
   ]
  },
  {
   "cell_type": "code",
   "execution_count": 12,
   "id": "9e76362c-5bfc-4329-a8b2-f28edc15581e",
   "metadata": {},
   "outputs": [
    {
     "data": {
      "text/plain": [
       "np.int64(0)"
      ]
     },
     "execution_count": 12,
     "metadata": {},
     "output_type": "execute_result"
    }
   ],
   "source": [
    "hour_df2.duplicated(keep=False).sum()"
   ]
  },
  {
   "cell_type": "markdown",
   "id": "3994ea54-41bb-4beb-bc57-63b35aaff720",
   "metadata": {},
   "source": [
    "i'm using dupliacted() function and passing \"keep=False\" arguments to ensure that all duplicates are marked as \"True\", also sum() function to sum up all the duplicated rows if there is any.\n",
    "\n",
    "If we looking at the result we can see that **there is no duplicated data** in both tables."
   ]
  },
  {
   "cell_type": "markdown",
   "id": "9ea9077b-4093-4e45-8315-7ffbbcdbf56a",
   "metadata": {},
   "source": [
    "#### Checking Outliers\n",
    "\n",
    "Next thing is to check if there is outliers in the numeric features"
   ]
  },
  {
   "cell_type": "code",
   "execution_count": 13,
   "id": "e9003c72-4eb6-4fd3-ba23-5840037f3274",
   "metadata": {},
   "outputs": [],
   "source": [
    "def check_outliers(table_name, column_name):\n",
    "    max_plot = np.max(table_name[column_name].unique())\n",
    "    min_plot = np.min(table_name[column_name].unique())\n",
    "\n",
    "    q1 = np.quantile(table_name[column_name], 0.25)\n",
    "    q3 = np.quantile(table_name[column_name], 0.75)\n",
    "    iqr = q3 - q1\n",
    "    batas_bawah = q1 - (1.5 * iqr)\n",
    "    batas_atas = q3 + (1.5 * iqr)\n",
    "\n",
    "    print(f'Max: {max_plot} Min: {min_plot}\\nQ1: {q1} \\nQ3: {q3} \\nIQR: {iqr}')\n",
    "    print(f'Batas: {batas_bawah} - {batas_atas}')\n",
    "    plt.boxplot(table_name[column_name])\n",
    "    plt.ylim([0, 50])\n",
    "\n",
    "    # Hitung sebaran data outliers\n",
    "\n",
    "    fig, ax = plt.subplots(figsize=(7,5))\n",
    "    ax.hist(table_name[column_name], 50)\n",
    "    ax.title.set_text(f'Sebaran Data {column_name}')\n",
    "    plt.show()\n",
    "\n",
    "    banyak_outlier = (table_name[column_name] < batas_bawah).sum() + (table_name[column_name] > batas_atas).sum()\n",
    "    total_data = table_name[column_name].value_counts().sum()\n",
    "    print(f'Jumlah Outlier Kolom {column_name}: {banyak_outlier}/{total_data}')\n",
    "    print('')"
   ]
  },
  {
   "cell_type": "markdown",
   "id": "48f03c4f-a070-48f6-9aca-2e2ec2328197",
   "metadata": {},
   "source": [
    "From the code above i write a function to check: \n",
    "- The **quantile 1(Q1)**, **quantile 3(Q3)**, and the **IQR**\n",
    "- The second one i create the **\"batas bawah\"** and **\"batas atas\"** to make a boundary lines to detect if the data is outliers or not\n",
    "- Make **the visualization of the outiers data point using boxplot** and **data distribution using histogram**\n",
    "- After all that i **show how much the outliers also the total data** so we can decide the next move based on the outliers percentile\n",
    "\n",
    "Since i need to check both tables, making the tables & column names as parameter should be efficient"
   ]
  },
  {
   "cell_type": "code",
   "execution_count": 14,
   "id": "0d564c44-5618-4b2d-a703-51ec6f16aefb",
   "metadata": {},
   "outputs": [
    {
     "data": {
      "text/html": [
       "<div>\n",
       "<style scoped>\n",
       "    .dataframe tbody tr th:only-of-type {\n",
       "        vertical-align: middle;\n",
       "    }\n",
       "\n",
       "    .dataframe tbody tr th {\n",
       "        vertical-align: top;\n",
       "    }\n",
       "\n",
       "    .dataframe thead th {\n",
       "        text-align: right;\n",
       "    }\n",
       "</style>\n",
       "<table border=\"1\" class=\"dataframe\">\n",
       "  <thead>\n",
       "    <tr style=\"text-align: right;\">\n",
       "      <th></th>\n",
       "      <th>0</th>\n",
       "    </tr>\n",
       "  </thead>\n",
       "  <tbody>\n",
       "    <tr>\n",
       "      <th>instant</th>\n",
       "      <td>int64</td>\n",
       "    </tr>\n",
       "    <tr>\n",
       "      <th>season</th>\n",
       "      <td>int64</td>\n",
       "    </tr>\n",
       "    <tr>\n",
       "      <th>yr</th>\n",
       "      <td>int64</td>\n",
       "    </tr>\n",
       "    <tr>\n",
       "      <th>mnth</th>\n",
       "      <td>int64</td>\n",
       "    </tr>\n",
       "    <tr>\n",
       "      <th>holiday</th>\n",
       "      <td>int64</td>\n",
       "    </tr>\n",
       "    <tr>\n",
       "      <th>weekday</th>\n",
       "      <td>int64</td>\n",
       "    </tr>\n",
       "    <tr>\n",
       "      <th>workingday</th>\n",
       "      <td>int64</td>\n",
       "    </tr>\n",
       "    <tr>\n",
       "      <th>weathersit</th>\n",
       "      <td>int64</td>\n",
       "    </tr>\n",
       "    <tr>\n",
       "      <th>temp</th>\n",
       "      <td>float64</td>\n",
       "    </tr>\n",
       "    <tr>\n",
       "      <th>atemp</th>\n",
       "      <td>float64</td>\n",
       "    </tr>\n",
       "    <tr>\n",
       "      <th>hum</th>\n",
       "      <td>float64</td>\n",
       "    </tr>\n",
       "    <tr>\n",
       "      <th>windspeed</th>\n",
       "      <td>float64</td>\n",
       "    </tr>\n",
       "    <tr>\n",
       "      <th>casual</th>\n",
       "      <td>int64</td>\n",
       "    </tr>\n",
       "    <tr>\n",
       "      <th>registered</th>\n",
       "      <td>int64</td>\n",
       "    </tr>\n",
       "    <tr>\n",
       "      <th>cnt</th>\n",
       "      <td>int64</td>\n",
       "    </tr>\n",
       "  </tbody>\n",
       "</table>\n",
       "</div>"
      ],
      "text/plain": [
       "                  0\n",
       "instant       int64\n",
       "season        int64\n",
       "yr            int64\n",
       "mnth          int64\n",
       "holiday       int64\n",
       "weekday       int64\n",
       "workingday    int64\n",
       "weathersit    int64\n",
       "temp        float64\n",
       "atemp       float64\n",
       "hum         float64\n",
       "windspeed   float64\n",
       "casual        int64\n",
       "registered    int64\n",
       "cnt           int64"
      ]
     },
     "execution_count": 14,
     "metadata": {},
     "output_type": "execute_result"
    }
   ],
   "source": [
    "kolom_int = day_df2.dtypes[(day_df2.dtypes == 'int64') | (day_df2.dtypes == 'float64')]\n",
    "pd.DataFrame(kolom_int)"
   ]
  },
  {
   "cell_type": "markdown",
   "id": "1f5fb625-8c44-4e09-9cf6-80232a1f80ee",
   "metadata": {},
   "source": [
    "I'm creating a new dataframe after filtering to select only 'int64' or 'float64' data types so we can easily check which column to passing into the check_outliers parameters"
   ]
  },
  {
   "cell_type": "markdown",
   "id": "ea0f2d35-e1f7-400d-b334-263c8b35a099",
   "metadata": {
    "jp-MarkdownHeadingCollapsed": true
   },
   "source": [
    "##### Checking day_df2 Outliers"
   ]
  },
  {
   "cell_type": "code",
   "execution_count": 15,
   "id": "49b92c23-304b-47a1-bc0e-be13c18a2927",
   "metadata": {},
   "outputs": [
    {
     "name": "stdout",
     "output_type": "stream",
     "text": [
      "Max: 4 Min: 1\n",
      "Q1: 2.0 \n",
      "Q3: 3.0 \n",
      "IQR: 1.0\n",
      "Batas: 0.5 - 4.5\n"
     ]
    },
    {
     "data": {
      "image/png": "[encoded data removed]",
      "text/plain": [
       "<Figure size 640x480 with 1 Axes>"
      ]
     },
     "metadata": {},
     "output_type": "display_data"
    },
    {
     "data": {
      "image/png": "[encoded data removed]",
      "text/plain": [
       "<Figure size 700x500 with 1 Axes>"
      ]
     },
     "metadata": {},
     "output_type": "display_data"
    },
    {
     "name": "stdout",
     "output_type": "stream",
     "text": [
      "Jumlah Outlier Kolom season: 0/731\n",
      "\n"
     ]
    }
   ],
   "source": [
    "check_outliers(day_df2, 'season')"
   ]
  },
  {
   "cell_type": "code",
   "execution_count": 16,
   "id": "76742ec3-a224-4510-8c0b-6d359771fbe0",
   "metadata": {},
   "outputs": [
    {
     "name": "stdout",
     "output_type": "stream",
     "text": [
      "Max: 1 Min: 0\n",
      "Q1: 0.0 \n",
      "Q3: 1.0 \n",
      "IQR: 1.0\n",
      "Batas: -1.5 - 2.5\n"
     ]
    },
    {
     "data": {
      "image/png": "[encoded data removed]",
      "text/plain": [
       "<Figure size 640x480 with 1 Axes>"
      ]
     },
     "metadata": {},
     "output_type": "display_data"
    },
    {
     "data": {
      "image/png": "[encoded data removed]",
      "text/plain": [
       "<Figure size 700x500 with 1 Axes>"
      ]
     },
     "metadata": {},
     "output_type": "display_data"
    },
    {
     "name": "stdout",
     "output_type": "stream",
     "text": [
      "Jumlah Outlier Kolom yr: 0/731\n",
      "\n"
     ]
    }
   ],
   "source": [
    "check_outliers(day_df2, 'yr')"
   ]
  },
  {
   "cell_type": "code",
   "execution_count": 17,
   "id": "7fdf0613-4b5c-4e2a-8c4f-124de8eca433",
   "metadata": {},
   "outputs": [
    {
     "name": "stdout",
     "output_type": "stream",
     "text": [
      "Max: 12 Min: 1\n",
      "Q1: 4.0 \n",
      "Q3: 10.0 \n",
      "IQR: 6.0\n",
      "Batas: -5.0 - 19.0\n"
     ]
    },
    {
     "data": {
      "image/png": "[encoded data removed]",
      "text/plain": [
       "<Figure size 640x480 with 1 Axes>"
      ]
     },
     "metadata": {},
     "output_type": "display_data"
    },
    {
     "data": {
      "image/png": "[encoded data removed]",
      "text/plain": [
       "<Figure size 700x500 with 1 Axes>"
      ]
     },
     "metadata": {},
     "output_type": "display_data"
    },
    {
     "name": "stdout",
     "output_type": "stream",
     "text": [
      "Jumlah Outlier Kolom mnth: 0/731\n",
      "\n"
     ]
    }
   ],
   "source": [
    "check_outliers(day_df2, 'mnth')"
   ]
  },
  {
   "cell_type": "code",
   "execution_count": 18,
   "id": "65824c28-85d9-4e89-be75-b797d0ea018e",
   "metadata": {},
   "outputs": [
    {
     "name": "stdout",
     "output_type": "stream",
     "text": [
      "Max: 1 Min: 0\n",
      "Q1: 0.0 \n",
      "Q3: 0.0 \n",
      "IQR: 0.0\n",
      "Batas: 0.0 - 0.0\n"
     ]
    },
    {
     "data": {
      "image/png": "[encoded data removed]",
      "text/plain": [
       "<Figure size 640x480 with 1 Axes>"
      ]
     },
     "metadata": {},
     "output_type": "display_data"
    },
    {
     "data": {
      "image/png": "[encoded data removed]",
      "text/plain": [
       "<Figure size 700x500 with 1 Axes>"
      ]
     },
     "metadata": {},
     "output_type": "display_data"
    },
    {
     "name": "stdout",
     "output_type": "stream",
     "text": [
      "Jumlah Outlier Kolom holiday: 21/731\n",
      "\n"
     ]
    }
   ],
   "source": [
    "check_outliers(day_df2, 'holiday')"
   ]
  },
  {
   "cell_type": "markdown",
   "id": "d7bf80a2-05b4-4b57-a854-4905effe4510",
   "metadata": {},
   "source": [
    "**Note that holiday column have 21 out of 731 outliers**"
   ]
  },
  {
   "cell_type": "code",
   "execution_count": 19,
   "id": "737766cf-54cd-4cfd-96c3-ea4c27bbcd98",
   "metadata": {},
   "outputs": [
    {
     "name": "stdout",
     "output_type": "stream",
     "text": [
      "Max: 6 Min: 0\n",
      "Q1: 1.0 \n",
      "Q3: 5.0 \n",
      "IQR: 4.0\n",
      "Batas: -5.0 - 11.0\n"
     ]
    },
    {
     "data": {
      "image/png": "[encoded data removed]",
      "text/plain": [
       "<Figure size 640x480 with 1 Axes>"
      ]
     },
     "metadata": {},
     "output_type": "display_data"
    },
    {
     "data": {
      "image/png": "[encoded data removed]",
      "text/plain": [
       "<Figure size 700x500 with 1 Axes>"
      ]
     },
     "metadata": {},
     "output_type": "display_data"
    },
    {
     "name": "stdout",
     "output_type": "stream",
     "text": [
      "Jumlah Outlier Kolom weekday: 0/731\n",
      "\n"
     ]
    }
   ],
   "source": [
    "check_outliers(day_df2, 'weekday')"
   ]
  },
  {
   "cell_type": "code",
   "execution_count": 20,
   "id": "259df607-fc20-4cdc-b136-6d2907dca40f",
   "metadata": {},
   "outputs": [
    {
     "name": "stdout",
     "output_type": "stream",
     "text": [
      "Max: 1 Min: 0\n",
      "Q1: 0.0 \n",
      "Q3: 1.0 \n",
      "IQR: 1.0\n",
      "Batas: -1.5 - 2.5\n"
     ]
    },
    {
     "data": {
      "image/png": "[encoded data removed]",
      "text/plain": [
       "<Figure size 640x480 with 1 Axes>"
      ]
     },
     "metadata": {},
     "output_type": "display_data"
    },
    {
     "data": {
      "image/png": "[encoded data removed]",
      "text/plain": [
       "<Figure size 700x500 with 1 Axes>"
      ]
     },
     "metadata": {},
     "output_type": "display_data"
    },
    {
     "name": "stdout",
     "output_type": "stream",
     "text": [
      "Jumlah Outlier Kolom workingday: 0/731\n",
      "\n"
     ]
    }
   ],
   "source": [
    "check_outliers(day_df2, 'workingday')"
   ]
  },
  {
   "cell_type": "code",
   "execution_count": 21,
   "id": "e11acaa3-2564-4310-a050-3287695f0bbc",
   "metadata": {},
   "outputs": [
    {
     "name": "stdout",
     "output_type": "stream",
     "text": [
      "Max: 3 Min: 1\n",
      "Q1: 1.0 \n",
      "Q3: 2.0 \n",
      "IQR: 1.0\n",
      "Batas: -0.5 - 3.5\n"
     ]
    },
    {
     "data": {
      "image/png": "[encoded data removed]",
      "text/plain": [
       "<Figure size 640x480 with 1 Axes>"
      ]
     },
     "metadata": {},
     "output_type": "display_data"
    },
    {
     "data": {
      "image/png": "[encoded data removed]",
      "text/plain": [
       "<Figure size 700x500 with 1 Axes>"
      ]
     },
     "metadata": {},
     "output_type": "display_data"
    },
    {
     "name": "stdout",
     "output_type": "stream",
     "text": [
      "Jumlah Outlier Kolom weathersit: 0/731\n",
      "\n"
     ]
    }
   ],
   "source": [
    "check_outliers(day_df2, 'weathersit')"
   ]
  },
  {
   "cell_type": "code",
   "execution_count": 22,
   "id": "6db6bb55-05ca-4bb8-a304-40f3c3cfce52",
   "metadata": {},
   "outputs": [
    {
     "name": "stdout",
     "output_type": "stream",
     "text": [
      "Max: 0.861667 Min: 0.0591304\n",
      "Q1: 0.3370835 \n",
      "Q3: 0.6554165000000001 \n",
      "IQR: 0.3183330000000001\n",
      "Batas: -0.14041600000000015 - 1.1329160000000003\n"
     ]
    },
    {
     "data": {
      "image/png": "[encoded data removed]",
      "text/plain": [
       "<Figure size 640x480 with 1 Axes>"
      ]
     },
     "metadata": {},
     "output_type": "display_data"
    },
    {
     "data": {
      "image/png": "[encoded data removed]",
      "text/plain": [
       "<Figure size 700x500 with 1 Axes>"
      ]
     },
     "metadata": {},
     "output_type": "display_data"
    },
    {
     "name": "stdout",
     "output_type": "stream",
     "text": [
      "Jumlah Outlier Kolom temp: 0/731\n",
      "\n"
     ]
    }
   ],
   "source": [
    "check_outliers(day_df2, 'temp')"
   ]
  },
  {
   "cell_type": "code",
   "execution_count": 23,
   "id": "185e4f48-ad46-4568-a3c4-a29df29c6435",
   "metadata": {},
   "outputs": [
    {
     "name": "stdout",
     "output_type": "stream",
     "text": [
      "Max: 0.840896 Min: 0.0790696\n",
      "Q1: 0.3378425 \n",
      "Q3: 0.6086020000000001 \n",
      "IQR: 0.2707595000000001\n",
      "Batas: -0.06829675000000018 - 1.0147412500000002\n"
     ]
    },
    {
     "data": {
      "image/png": "[encoded data removed]",
      "text/plain": [
       "<Figure size 640x480 with 1 Axes>"
      ]
     },
     "metadata": {},
     "output_type": "display_data"
    },
    {
     "data": {
      "image/png": "[encoded data removed]",
      "text/plain": [
       "<Figure size 700x500 with 1 Axes>"
      ]
     },
     "metadata": {},
     "output_type": "display_data"
    },
    {
     "name": "stdout",
     "output_type": "stream",
     "text": [
      "Jumlah Outlier Kolom atemp: 0/731\n",
      "\n"
     ]
    }
   ],
   "source": [
    "check_outliers(day_df2, 'atemp')"
   ]
  },
  {
   "cell_type": "code",
   "execution_count": 24,
   "id": "4d28fcca-b053-497e-b281-f914f4e2b686",
   "metadata": {},
   "outputs": [
    {
     "name": "stdout",
     "output_type": "stream",
     "text": [
      "Max: 0.9725 Min: 0.0\n",
      "Q1: 0.52 \n",
      "Q3: 0.7302085 \n",
      "IQR: 0.21020850000000002\n",
      "Batas: 0.20468725 - 1.0455212500000002\n"
     ]
    },
    {
     "data": {
      "image/png": "[encoded data removed]",
      "text/plain": [
       "<Figure size 640x480 with 1 Axes>"
      ]
     },
     "metadata": {},
     "output_type": "display_data"
    },
    {
     "data": {
      "image/png": "[encoded data removed]",
      "text/plain": [
       "<Figure size 700x500 with 1 Axes>"
      ]
     },
     "metadata": {},
     "output_type": "display_data"
    },
    {
     "name": "stdout",
     "output_type": "stream",
     "text": [
      "Jumlah Outlier Kolom hum: 2/731\n",
      "\n"
     ]
    }
   ],
   "source": [
    "check_outliers(day_df2, 'hum')"
   ]
  },
  {
   "cell_type": "markdown",
   "id": "7794985c-5a3d-492d-a0f2-577139f1ba6e",
   "metadata": {},
   "source": [
    "**In \"hum\" column we got another 2 out of 731 outliers data**"
   ]
  },
  {
   "cell_type": "code",
   "execution_count": 25,
   "id": "b493e270-ef41-4cf9-896d-15e7743b1a5e",
   "metadata": {},
   "outputs": [
    {
     "name": "stdout",
     "output_type": "stream",
     "text": [
      "Max: 0.507463 Min: 0.0223917\n",
      "Q1: 0.13495 \n",
      "Q3: 0.2332145 \n",
      "IQR: 0.0982645\n",
      "Batas: -0.012446750000000034 - 0.38061125\n"
     ]
    },
    {
     "data": {
      "image/png": "[encoded data removed]",
      "text/plain": [
       "<Figure size 640x480 with 1 Axes>"
      ]
     },
     "metadata": {},
     "output_type": "display_data"
    },
    {
     "data": {
      "image/png": "[encoded data removed]",
      "text/plain": [
       "<Figure size 700x500 with 1 Axes>"
      ]
     },
     "metadata": {},
     "output_type": "display_data"
    },
    {
     "name": "stdout",
     "output_type": "stream",
     "text": [
      "Jumlah Outlier Kolom windspeed: 13/731\n",
      "\n"
     ]
    }
   ],
   "source": [
    "check_outliers(day_df2, 'windspeed')"
   ]
  },
  {
   "cell_type": "markdown",
   "id": "59743630-c3c7-481f-90c8-a9c52c263d9c",
   "metadata": {},
   "source": [
    "**In \"Windspeed\" column we got 13 out of 731 outliers**"
   ]
  },
  {
   "cell_type": "code",
   "execution_count": 26,
   "id": "e4c475be-777e-4fce-9725-1308d89a512f",
   "metadata": {},
   "outputs": [
    {
     "name": "stdout",
     "output_type": "stream",
     "text": [
      "Max: 3410 Min: 2\n",
      "Q1: 315.5 \n",
      "Q3: 1096.0 \n",
      "IQR: 780.5\n",
      "Batas: -855.25 - 2266.75\n"
     ]
    },
    {
     "data": {
      "image/png": "[encoded data removed]",
      "text/plain": [
       "<Figure size 640x480 with 1 Axes>"
      ]
     },
     "metadata": {},
     "output_type": "display_data"
    },
    {
     "data": {
      "image/png": "[encoded data removed]",
      "text/plain": [
       "<Figure size 700x500 with 1 Axes>"
      ]
     },
     "metadata": {},
     "output_type": "display_data"
    },
    {
     "name": "stdout",
     "output_type": "stream",
     "text": [
      "Jumlah Outlier Kolom casual: 44/731\n",
      "\n"
     ]
    }
   ],
   "source": [
    "check_outliers(day_df2, 'casual')"
   ]
  },
  {
   "cell_type": "markdown",
   "id": "e85e765e-a84d-49e3-9437-f48596beca1a",
   "metadata": {},
   "source": [
    "**In \"Casual\" column we got 44 out of 731 which is pretty much**"
   ]
  },
  {
   "cell_type": "code",
   "execution_count": 27,
   "id": "6c8cdc3e-0742-403c-a8b8-932e9e06eb3f",
   "metadata": {},
   "outputs": [
    {
     "name": "stdout",
     "output_type": "stream",
     "text": [
      "Max: 6946 Min: 20\n",
      "Q1: 2497.0 \n",
      "Q3: 4776.5 \n",
      "IQR: 2279.5\n",
      "Batas: -922.25 - 8195.75\n"
     ]
    },
    {
     "data": {
      "image/png": "[encoded data removed]",
      "text/plain": [
       "<Figure size 640x480 with 1 Axes>"
      ]
     },
     "metadata": {},
     "output_type": "display_data"
    },
    {
     "data": {
      "image/png": "[encoded data removed]",
      "text/plain": [
       "<Figure size 700x500 with 1 Axes>"
      ]
     },
     "metadata": {},
     "output_type": "display_data"
    },
    {
     "name": "stdout",
     "output_type": "stream",
     "text": [
      "Jumlah Outlier Kolom registered: 0/731\n",
      "\n"
     ]
    }
   ],
   "source": [
    "check_outliers(day_df2, 'registered')"
   ]
  },
  {
   "cell_type": "code",
   "execution_count": 28,
   "id": "c1102e46-e634-46f8-a037-f9be5f2c3170",
   "metadata": {},
   "outputs": [
    {
     "name": "stdout",
     "output_type": "stream",
     "text": [
      "Max: 8714 Min: 22\n",
      "Q1: 3152.0 \n",
      "Q3: 5956.0 \n",
      "IQR: 2804.0\n",
      "Batas: -1054.0 - 10162.0\n"
     ]
    },
    {
     "data": {
      "image/png": "[encoded data removed]",
      "text/plain": [
       "<Figure size 640x480 with 1 Axes>"
      ]
     },
     "metadata": {},
     "output_type": "display_data"
    },
    {
     "data": {
      "image/png": "[encoded data removed]",
      "text/plain": [
       "<Figure size 700x500 with 1 Axes>"
      ]
     },
     "metadata": {},
     "output_type": "display_data"
    },
    {
     "name": "stdout",
     "output_type": "stream",
     "text": [
      "Jumlah Outlier Kolom cnt: 0/731\n",
      "\n"
     ]
    }
   ],
   "source": [
    "check_outliers(day_df2, 'cnt')"
   ]
  },
  {
   "cell_type": "markdown",
   "id": "9ab5e4d4-1ddd-44e4-8b72-a889aa5c69b7",
   "metadata": {
    "jp-MarkdownHeadingCollapsed": true
   },
   "source": [
    "##### Checking hour_df2 outliers"
   ]
  },
  {
   "cell_type": "code",
   "execution_count": 29,
   "id": "6c47ea31-1c56-4818-8e93-f59ee17d250f",
   "metadata": {},
   "outputs": [
    {
     "name": "stdout",
     "output_type": "stream",
     "text": [
      "Max: 4 Min: 1\n",
      "Q1: 2.0 \n",
      "Q3: 3.0 \n",
      "IQR: 1.0\n",
      "Batas: 0.5 - 4.5\n"
     ]
    },
    {
     "data": {
      "image/png": "[encoded data removed]",
      "text/plain": [
       "<Figure size 640x480 with 1 Axes>"
      ]
     },
     "metadata": {},
     "output_type": "display_data"
    },
    {
     "data": {
      "image/png": "[encoded data removed]",
      "text/plain": [
       "<Figure size 700x500 with 1 Axes>"
      ]
     },
     "metadata": {},
     "output_type": "display_data"
    },
    {
     "name": "stdout",
     "output_type": "stream",
     "text": [
      "Jumlah Outlier Kolom season: 0/17379\n",
      "\n"
     ]
    }
   ],
   "source": [
    "check_outliers(hour_df2, 'season')"
   ]
  },
  {
   "cell_type": "code",
   "execution_count": 30,
   "id": "c25e064a-398c-4f21-928e-e3dc4fe0ec80",
   "metadata": {},
   "outputs": [
    {
     "name": "stdout",
     "output_type": "stream",
     "text": [
      "Max: 1 Min: 0\n",
      "Q1: 0.0 \n",
      "Q3: 1.0 \n",
      "IQR: 1.0\n",
      "Batas: -1.5 - 2.5\n"
     ]
    },
    {
     "data": {
      "image/png": "[encoded data removed]",
      "text/plain": [
       "<Figure size 640x480 with 1 Axes>"
      ]
     },
     "metadata": {},
     "output_type": "display_data"
    },
    {
     "data": {
      "image/png": "[encoded data removed]",
      "text/plain": [
       "<Figure size 700x500 with 1 Axes>"
      ]
     },
     "metadata": {},
     "output_type": "display_data"
    },
    {
     "name": "stdout",
     "output_type": "stream",
     "text": [
      "Jumlah Outlier Kolom yr: 0/17379\n",
      "\n"
     ]
    }
   ],
   "source": [
    "check_outliers(hour_df2, 'yr')"
   ]
  },
  {
   "cell_type": "code",
   "execution_count": 31,
   "id": "bc00098d-8d3d-4469-b6c6-09fc061271f1",
   "metadata": {},
   "outputs": [
    {
     "name": "stdout",
     "output_type": "stream",
     "text": [
      "Max: 12 Min: 1\n",
      "Q1: 4.0 \n",
      "Q3: 10.0 \n",
      "IQR: 6.0\n",
      "Batas: -5.0 - 19.0\n"
     ]
    },
    {
     "data": {
      "image/png": "[encoded data removed]",
      "text/plain": [
       "<Figure size 640x480 with 1 Axes>"
      ]
     },
     "metadata": {},
     "output_type": "display_data"
    },
    {
     "data": {
      "image/png": "[encoded data removed]",
      "text/plain": [
       "<Figure size 700x500 with 1 Axes>"
      ]
     },
     "metadata": {},
     "output_type": "display_data"
    },
    {
     "name": "stdout",
     "output_type": "stream",
     "text": [
      "Jumlah Outlier Kolom mnth: 0/17379\n",
      "\n"
     ]
    }
   ],
   "source": [
    "check_outliers(hour_df2, 'mnth')"
   ]
  },
  {
   "cell_type": "code",
   "execution_count": 32,
   "id": "b43318bc-a664-4f73-9274-72628721fbd8",
   "metadata": {},
   "outputs": [
    {
     "name": "stdout",
     "output_type": "stream",
     "text": [
      "Max: 1 Min: 0\n",
      "Q1: 0.0 \n",
      "Q3: 0.0 \n",
      "IQR: 0.0\n",
      "Batas: 0.0 - 0.0\n"
     ]
    },
    {
     "data": {
      "image/png": "[encoded data removed]",
      "text/plain": [
       "<Figure size 640x480 with 1 Axes>"
      ]
     },
     "metadata": {},
     "output_type": "display_data"
    },
    {
     "data": {
      "image/png": "[encoded data removed]",
      "text/plain": [
       "<Figure size 700x500 with 1 Axes>"
      ]
     },
     "metadata": {},
     "output_type": "display_data"
    },
    {
     "name": "stdout",
     "output_type": "stream",
     "text": [
      "Jumlah Outlier Kolom holiday: 500/17379\n",
      "\n"
     ]
    }
   ],
   "source": [
    "check_outliers(hour_df2, 'holiday')"
   ]
  },
  {
   "cell_type": "markdown",
   "id": "447d9bd3-8ed5-4fd2-ac67-f630ecabaac1",
   "metadata": {},
   "source": [
    "**In the \"holiday\" column we got 500 out of 17379 data outliers**"
   ]
  },
  {
   "cell_type": "code",
   "execution_count": 33,
   "id": "6d2d8305-9434-4026-930c-a4d2491fb41f",
   "metadata": {},
   "outputs": [
    {
     "name": "stdout",
     "output_type": "stream",
     "text": [
      "Max: 6 Min: 0\n",
      "Q1: 1.0 \n",
      "Q3: 5.0 \n",
      "IQR: 4.0\n",
      "Batas: -5.0 - 11.0\n"
     ]
    },
    {
     "data": {
      "image/png": "[encoded data removed]",
      "text/plain": [
       "<Figure size 640x480 with 1 Axes>"
      ]
     },
     "metadata": {},
     "output_type": "display_data"
    },
    {
     "data": {
      "image/png": "[encoded data removed]",
      "text/plain": [
       "<Figure size 700x500 with 1 Axes>"
      ]
     },
     "metadata": {},
     "output_type": "display_data"
    },
    {
     "name": "stdout",
     "output_type": "stream",
     "text": [
      "Jumlah Outlier Kolom weekday: 0/17379\n",
      "\n"
     ]
    }
   ],
   "source": [
    "check_outliers(hour_df2, 'weekday')"
   ]
  },
  {
   "cell_type": "code",
   "execution_count": 34,
   "id": "a5cda335-9322-434c-92c7-0e81e14efad1",
   "metadata": {},
   "outputs": [
    {
     "name": "stdout",
     "output_type": "stream",
     "text": [
      "Max: 1 Min: 0\n",
      "Q1: 0.0 \n",
      "Q3: 1.0 \n",
      "IQR: 1.0\n",
      "Batas: -1.5 - 2.5\n"
     ]
    },
    {
     "data": {
      "image/png": "[encoded data removed]",
      "text/plain": [
       "<Figure size 640x480 with 1 Axes>"
      ]
     },
     "metadata": {},
     "output_type": "display_data"
    },
    {
     "data": {
      "image/png": "[encoded data removed]",
      "text/plain": [
       "<Figure size 700x500 with 1 Axes>"
      ]
     },
     "metadata": {},
     "output_type": "display_data"
    },
    {
     "name": "stdout",
     "output_type": "stream",
     "text": [
      "Jumlah Outlier Kolom workingday: 0/17379\n",
      "\n"
     ]
    }
   ],
   "source": [
    "check_outliers(hour_df2, 'workingday')"
   ]
  },
  {
   "cell_type": "code",
   "execution_count": 35,
   "id": "f0027caf-15cf-47d1-b956-83b49b878659",
   "metadata": {},
   "outputs": [
    {
     "name": "stdout",
     "output_type": "stream",
     "text": [
      "Max: 3 Min: 1\n",
      "Q1: 1.0 \n",
      "Q3: 2.0 \n",
      "IQR: 1.0\n",
      "Batas: -0.5 - 3.5\n"
     ]
    },
    {
     "data": {
      "image/png": "[encoded data removed]",
      "text/plain": [
       "<Figure size 640x480 with 1 Axes>"
      ]
     },
     "metadata": {},
     "output_type": "display_data"
    },
    {
     "data": {
      "image/png": "[encoded data removed]",
      "text/plain": [
       "<Figure size 700x500 with 1 Axes>"
      ]
     },
     "metadata": {},
     "output_type": "display_data"
    },
    {
     "name": "stdout",
     "output_type": "stream",
     "text": [
      "Jumlah Outlier Kolom weathersit: 0/731\n",
      "\n"
     ]
    }
   ],
   "source": [
    "check_outliers(day_df2, 'weathersit')"
   ]
  },
  {
   "cell_type": "code",
   "execution_count": 36,
   "id": "8cf3adab-0b0c-421b-943c-29580846a950",
   "metadata": {},
   "outputs": [
    {
     "name": "stdout",
     "output_type": "stream",
     "text": [
      "Max: 1.0 Min: 0.02\n",
      "Q1: 0.34 \n",
      "Q3: 0.66 \n",
      "IQR: 0.32\n",
      "Batas: -0.13999999999999996 - 1.1400000000000001\n"
     ]
    },
    {
     "data": {
      "image/png": "[encoded data removed]",
      "text/plain": [
       "<Figure size 640x480 with 1 Axes>"
      ]
     },
     "metadata": {},
     "output_type": "display_data"
    },
    {
     "data": {
      "image/png": "[encoded data removed]",
      "text/plain": [
       "<Figure size 700x500 with 1 Axes>"
      ]
     },
     "metadata": {},
     "output_type": "display_data"
    },
    {
     "name": "stdout",
     "output_type": "stream",
     "text": [
      "Jumlah Outlier Kolom temp: 0/17379\n",
      "\n"
     ]
    }
   ],
   "source": [
    "check_outliers(hour_df2, 'temp')"
   ]
  },
  {
   "cell_type": "code",
   "execution_count": 37,
   "id": "7dae67e2-df71-46cb-8670-c035cc1abb63",
   "metadata": {},
   "outputs": [
    {
     "name": "stdout",
     "output_type": "stream",
     "text": [
      "Max: 1.0 Min: 0.0\n",
      "Q1: 0.3333 \n",
      "Q3: 0.6212 \n",
      "IQR: 0.2879\n",
      "Batas: -0.09854999999999997 - 1.0530499999999998\n"
     ]
    },
    {
     "data": {
      "image/png": "[encoded data removed]",
      "text/plain": [
       "<Figure size 640x480 with 1 Axes>"
      ]
     },
     "metadata": {},
     "output_type": "display_data"
    },
    {
     "data": {
      "image/png": "[encoded data removed]",
      "text/plain": [
       "<Figure size 700x500 with 1 Axes>"
      ]
     },
     "metadata": {},
     "output_type": "display_data"
    },
    {
     "name": "stdout",
     "output_type": "stream",
     "text": [
      "Jumlah Outlier Kolom atemp: 0/17379\n",
      "\n"
     ]
    }
   ],
   "source": [
    "check_outliers(hour_df2, 'atemp')"
   ]
  },
  {
   "cell_type": "code",
   "execution_count": 38,
   "id": "2308d3c6-fdc9-4ac4-a2eb-8d45608223f2",
   "metadata": {},
   "outputs": [
    {
     "name": "stdout",
     "output_type": "stream",
     "text": [
      "Max: 1.0 Min: 0.0\n",
      "Q1: 0.48 \n",
      "Q3: 0.78 \n",
      "IQR: 0.30000000000000004\n",
      "Batas: 0.029999999999999916 - 1.23\n"
     ]
    },
    {
     "data": {
      "image/png": "[encoded data removed]",
      "text/plain": [
       "<Figure size 640x480 with 1 Axes>"
      ]
     },
     "metadata": {},
     "output_type": "display_data"
    },
    {
     "data": {
      "image/png": "[encoded data removed]",
      "text/plain": [
       "<Figure size 700x500 with 1 Axes>"
      ]
     },
     "metadata": {},
     "output_type": "display_data"
    },
    {
     "name": "stdout",
     "output_type": "stream",
     "text": [
      "Jumlah Outlier Kolom hum: 22/17379\n",
      "\n"
     ]
    }
   ],
   "source": [
    "check_outliers(hour_df2, 'hum')"
   ]
  },
  {
   "cell_type": "markdown",
   "id": "8bd3a558-f6d3-46fd-8202-8fec08a491b2",
   "metadata": {},
   "source": [
    "**We got 22 outliers out of 17379 data in the \"Hum\" column**"
   ]
  },
  {
   "cell_type": "code",
   "execution_count": 39,
   "id": "ee0bd666-ad0a-4f9f-8568-fe19f35adbd5",
   "metadata": {},
   "outputs": [
    {
     "name": "stdout",
     "output_type": "stream",
     "text": [
      "Max: 0.8507 Min: 0.0\n",
      "Q1: 0.1045 \n",
      "Q3: 0.2537 \n",
      "IQR: 0.1492\n",
      "Batas: -0.1193 - 0.4775\n"
     ]
    },
    {
     "data": {
      "image/png": "[encoded data removed]",
      "text/plain": [
       "<Figure size 640x480 with 1 Axes>"
      ]
     },
     "metadata": {},
     "output_type": "display_data"
    },
    {
     "data": {
      "image/png": "[encoded data removed]",
      "text/plain": [
       "<Figure size 700x500 with 1 Axes>"
      ]
     },
     "metadata": {},
     "output_type": "display_data"
    },
    {
     "name": "stdout",
     "output_type": "stream",
     "text": [
      "Jumlah Outlier Kolom windspeed: 342/17379\n",
      "\n"
     ]
    }
   ],
   "source": [
    "check_outliers(hour_df2, 'windspeed')"
   ]
  },
  {
   "cell_type": "markdown",
   "id": "adf13ed7-b8d7-450e-9458-16bc9e4bd67c",
   "metadata": {},
   "source": [
    "**We got 342 out of 17379 outliers in the \"Windspeed\" column**"
   ]
  },
  {
   "cell_type": "code",
   "execution_count": 40,
   "id": "cdfb16f7-f7f3-4374-bd8b-5a135f87b6f7",
   "metadata": {},
   "outputs": [
    {
     "name": "stdout",
     "output_type": "stream",
     "text": [
      "Max: 367 Min: 0\n",
      "Q1: 4.0 \n",
      "Q3: 48.0 \n",
      "IQR: 44.0\n",
      "Batas: -62.0 - 114.0\n"
     ]
    },
    {
     "data": {
      "image/png": "[encoded data removed]",
      "text/plain": [
       "<Figure size 640x480 with 1 Axes>"
      ]
     },
     "metadata": {},
     "output_type": "display_data"
    },
    {
     "data": {
      "image/png": "[encoded data removed]",
      "text/plain": [
       "<Figure size 700x500 with 1 Axes>"
      ]
     },
     "metadata": {},
     "output_type": "display_data"
    },
    {
     "name": "stdout",
     "output_type": "stream",
     "text": [
      "Jumlah Outlier Kolom casual: 1192/17379\n",
      "\n"
     ]
    }
   ],
   "source": [
    "check_outliers(hour_df2, 'casual')"
   ]
  },
  {
   "cell_type": "markdown",
   "id": "6d503c9f-8517-4a42-ae22-ed55a469a9ae",
   "metadata": {},
   "source": [
    "**We got 1192 out of 17379 outliers in the \"Casual\" column**"
   ]
  },
  {
   "cell_type": "code",
   "execution_count": 41,
   "id": "0b6d1dc4-2a9f-4c53-8191-4dd094bb7220",
   "metadata": {},
   "outputs": [
    {
     "name": "stdout",
     "output_type": "stream",
     "text": [
      "Max: 886 Min: 0\n",
      "Q1: 34.0 \n",
      "Q3: 220.0 \n",
      "IQR: 186.0\n",
      "Batas: -245.0 - 499.0\n"
     ]
    },
    {
     "data": {
      "image/png": "[encoded data removed]",
      "text/plain": [
       "<Figure size 640x480 with 1 Axes>"
      ]
     },
     "metadata": {},
     "output_type": "display_data"
    },
    {
     "data": {
      "image/png": "[encoded data removed]",
      "text/plain": [
       "<Figure size 700x500 with 1 Axes>"
      ]
     },
     "metadata": {},
     "output_type": "display_data"
    },
    {
     "name": "stdout",
     "output_type": "stream",
     "text": [
      "Jumlah Outlier Kolom registered: 680/17379\n",
      "\n"
     ]
    }
   ],
   "source": [
    "check_outliers(hour_df2, 'registered')"
   ]
  },
  {
   "cell_type": "markdown",
   "id": "edb534a5-5c9c-47ab-96c9-1b07d73e8eb8",
   "metadata": {},
   "source": [
    "**In column \"registered\" we got 680 outliers out of 17379 data**"
   ]
  },
  {
   "cell_type": "code",
   "execution_count": 42,
   "id": "c7797684-6e87-4704-a9f0-9e6a2900e65e",
   "metadata": {},
   "outputs": [
    {
     "name": "stdout",
     "output_type": "stream",
     "text": [
      "Max: 977 Min: 1\n",
      "Q1: 40.0 \n",
      "Q3: 281.0 \n",
      "IQR: 241.0\n",
      "Batas: -321.5 - 642.5\n"
     ]
    },
    {
     "data": {
      "image/png": "[encoded data removed]",
      "text/plain": [
       "<Figure size 640x480 with 1 Axes>"
      ]
     },
     "metadata": {},
     "output_type": "display_data"
    },
    {
     "data": {
      "image/png": "[encoded data removed]",
      "text/plain": [
       "<Figure size 700x500 with 1 Axes>"
      ]
     },
     "metadata": {},
     "output_type": "display_data"
    },
    {
     "name": "stdout",
     "output_type": "stream",
     "text": [
      "Jumlah Outlier Kolom cnt: 505/17379\n",
      "\n"
     ]
    }
   ],
   "source": [
    "check_outliers(hour_df2, 'cnt')"
   ]
  },
  {
   "cell_type": "markdown",
   "id": "cac2fd94-441e-43c0-9e79-da336cb627df",
   "metadata": {},
   "source": [
    "**And the last one \"cnt\", we got 505 outliers out of 17379 data**"
   ]
  },
  {
   "cell_type": "markdown",
   "id": "ddbba460-0e47-4dc2-9383-061b6dac9fe1",
   "metadata": {},
   "source": [
    "##### Data Wrangling Conclusion\n",
    "\n",
    "From the checking process above, we got:\n",
    "1. **day_df2**:\n",
    "    - **casual** = 44 outliers\n",
    "    - **windspeed** = 13 outliers\n",
    "    - **hum** = 2 outliers\n",
    "    - **holiday** = 21\n",
    "   \n",
    "Total data day_df2: 731\n",
    "\n",
    "2. **hour_df2**:\n",
    "    - **hum** = 22 outliers\n",
    "    - **windspeed** = 342 outliers\n",
    "    - **casual** = 1192 outliers\n",
    "    - **registered** = 680 outliers\n",
    "    - **holiday** = 500 outliers\n",
    "\n",
    "Total data hour_df2: 17379\n",
    "\n",
    "From the outliers data we can conclude that:\n",
    "1. The small number of **windspeed and hum** outliers in **day_df2** might indicate that wind speed and humidity values are generally consistent. But **in the hour_df2** which outliers value in **windspeed** got has value could indicate extreme weather.\n",
    "\n",
    "2. The 1192 **casual** outliers in **hour_df2** is a significant number of outliers, shows that many casual bike rentals at certain hours deviate greatly from the average. This may due to factors such as special events, promotions etc. that need to be analyzed further.\n",
    "\n",
    "Also, **we need to convert the \"dteday\" data type into date**"
   ]
  },
  {
   "cell_type": "code",
   "execution_count": 43,
   "id": "edc75ac1-a55a-4059-94a4-facfef7138e8",
   "metadata": {},
   "outputs": [
    {
     "data": {
      "text/plain": [
       "0   2011-01-01\n",
       "1   2011-01-02\n",
       "2   2011-01-03\n",
       "3   2011-01-04\n",
       "4   2011-01-05\n",
       "5   2011-01-06\n",
       "6   2011-01-07\n",
       "Name: dteday, dtype: datetime64[ns]"
      ]
     },
     "execution_count": 43,
     "metadata": {},
     "output_type": "execute_result"
    }
   ],
   "source": [
    "# Changing dteday dtype to date\n",
    "\n",
    "day_df2['dteday'] = pd.to_datetime(day_df2['dteday'], format='%Y-%m-%d')\n",
    "day_df2['dteday'].head(7)"
   ]
  },
  {
   "cell_type": "code",
   "execution_count": 44,
   "id": "4c9cb46c-6bdd-4d62-8d9f-b9eeb6fb9748",
   "metadata": {},
   "outputs": [
    {
     "data": {
      "text/plain": [
       "0   2011-01-01\n",
       "1   2011-01-01\n",
       "2   2011-01-01\n",
       "3   2011-01-01\n",
       "4   2011-01-01\n",
       "5   2011-01-01\n",
       "6   2011-01-01\n",
       "Name: dteday, dtype: datetime64[ns]"
      ]
     },
     "execution_count": 44,
     "metadata": {},
     "output_type": "execute_result"
    }
   ],
   "source": [
    "# Changing dteday dtype to date\n",
    "\n",
    "hour_df2['dteday'] = pd.to_datetime(hour_df2['dteday'], format='%Y-%m-%d')\n",
    "hour_df2['dteday'].head(7)"
   ]
  },
  {
   "cell_type": "code",
   "execution_count": 45,
   "id": "15719aeb-e7e6-4df1-905b-49f56d34cad8",
   "metadata": {},
   "outputs": [],
   "source": [
    "day_df2['month'] = day_df2['dteday'].dt.month\n",
    "day_df2['year'] = day_df2['dteday'].dt.year"
   ]
  },
  {
   "cell_type": "code",
   "execution_count": 46,
   "id": "a5d0aef4-4e5d-4fdb-9e1c-4221229437a3",
   "metadata": {},
   "outputs": [],
   "source": [
    "hour_df2['month'] = day_df2['dteday'].dt.month\n",
    "hour_df2['year'] = day_df2['dteday'].dt.year"
   ]
  },
  {
   "cell_type": "markdown",
   "id": "7a4066a8-9dd2-4d43-8237-2dce6757ab26",
   "metadata": {},
   "source": [
    "From the 4 code above i change the dtype of \"dteday\" column using pd.to_datetime() module and using specific format '%Y-%m-%d' which mean \"Years-Month-Day'. Also adding two new columns that represent months and years"
   ]
  },
  {
   "cell_type": "code",
   "execution_count": 47,
   "id": "827f3c30-7a6b-4560-bc58-22aa924cabaf",
   "metadata": {},
   "outputs": [],
   "source": [
    "season_mapping = {1: 'springer', 2: 'summer', 3: 'fall', 4: 'winter'}\n",
    "day_df2['season'] = day_df2['season'].replace(season_mapping)"
   ]
  },
  {
   "cell_type": "code",
   "execution_count": 48,
   "id": "a860430b-a331-41d5-a7b3-e7f7df56b778",
   "metadata": {},
   "outputs": [],
   "source": [
    "hour_df2['season'] = hour_df2['season'].replace(season_mapping)"
   ]
  },
  {
   "cell_type": "markdown",
   "id": "08f40c86-494f-4602-8117-f0ffb029d75d",
   "metadata": {},
   "source": [
    "From code above im changing the season column value from just number into the season name like springer, summer, and so on."
   ]
  },
  {
   "cell_type": "code",
   "execution_count": 49,
   "id": "6bb5bd00-8304-4e08-8456-14adc2a19f66",
   "metadata": {},
   "outputs": [
    {
     "name": "stdout",
     "output_type": "stream",
     "text": [
      "holiday    0   1\n",
      "yr              \n",
      "0        355  10\n",
      "1        355  11\n"
     ]
    }
   ],
   "source": [
    "holiday_counts_by_year = hour_df2.groupby(['yr', 'holiday'])['dteday'].nunique().unstack(fill_value=0)\n",
    "print(holiday_counts_by_year)"
   ]
  },
  {
   "cell_type": "markdown",
   "id": "a4bf1e68-0bbd-4080-b6ad-90001e4d7f12",
   "metadata": {},
   "source": [
    "Because of suspicious value of 'holiday' outliers value, i'm checked how much holiday in a year so there's no logical errors. And from the result above we can see that the holiday values are 11/355 which is true. \n",
    "\n",
    "**From here we can ignore the holiday outliers**"
   ]
  },
  {
   "cell_type": "markdown",
   "id": "e67a09f2-0fb4-4ad0-9350-6673225c014d",
   "metadata": {},
   "source": [
    "## Exploratory Data Analysis"
   ]
  },
  {
   "cell_type": "markdown",
   "id": "64176aa5-1f83-4b5d-86a1-37721b27a8f1",
   "metadata": {},
   "source": [
    "Before we analyze the data, first of all we need to explore the table that contains a lot of information"
   ]
  },
  {
   "cell_type": "code",
   "execution_count": 50,
   "id": "96ea82df-3948-49fc-8960-841cb6e746f4",
   "metadata": {},
   "outputs": [
    {
     "data": {
      "text/html": [
       "<div>\n",
       "<style scoped>\n",
       "    .dataframe tbody tr th:only-of-type {\n",
       "        vertical-align: middle;\n",
       "    }\n",
       "\n",
       "    .dataframe tbody tr th {\n",
       "        vertical-align: top;\n",
       "    }\n",
       "\n",
       "    .dataframe thead th {\n",
       "        text-align: right;\n",
       "    }\n",
       "</style>\n",
       "<table border=\"1\" class=\"dataframe\">\n",
       "  <thead>\n",
       "    <tr style=\"text-align: right;\">\n",
       "      <th></th>\n",
       "      <th>instant</th>\n",
       "      <th>dteday</th>\n",
       "      <th>season</th>\n",
       "      <th>yr</th>\n",
       "      <th>mnth</th>\n",
       "      <th>holiday</th>\n",
       "      <th>weekday</th>\n",
       "      <th>workingday</th>\n",
       "      <th>weathersit</th>\n",
       "      <th>temp</th>\n",
       "      <th>atemp</th>\n",
       "      <th>hum</th>\n",
       "      <th>windspeed</th>\n",
       "      <th>casual</th>\n",
       "      <th>registered</th>\n",
       "      <th>cnt</th>\n",
       "      <th>month</th>\n",
       "      <th>year</th>\n",
       "    </tr>\n",
       "  </thead>\n",
       "  <tbody>\n",
       "    <tr>\n",
       "      <th>count</th>\n",
       "      <td>731.000000</td>\n",
       "      <td>731</td>\n",
       "      <td>731</td>\n",
       "      <td>731.000000</td>\n",
       "      <td>731.000000</td>\n",
       "      <td>731.000000</td>\n",
       "      <td>731.000000</td>\n",
       "      <td>731.000000</td>\n",
       "      <td>731.000000</td>\n",
       "      <td>731.000000</td>\n",
       "      <td>731.000000</td>\n",
       "      <td>731.000000</td>\n",
       "      <td>731.000000</td>\n",
       "      <td>731.000000</td>\n",
       "      <td>731.000000</td>\n",
       "      <td>731.000000</td>\n",
       "      <td>731.000000</td>\n",
       "      <td>731.000000</td>\n",
       "    </tr>\n",
       "    <tr>\n",
       "      <th>unique</th>\n",
       "      <td>NaN</td>\n",
       "      <td>NaN</td>\n",
       "      <td>4</td>\n",
       "      <td>NaN</td>\n",
       "      <td>NaN</td>\n",
       "      <td>NaN</td>\n",
       "      <td>NaN</td>\n",
       "      <td>NaN</td>\n",
       "      <td>NaN</td>\n",
       "      <td>NaN</td>\n",
       "      <td>NaN</td>\n",
       "      <td>NaN</td>\n",
       "      <td>NaN</td>\n",
       "      <td>NaN</td>\n",
       "      <td>NaN</td>\n",
       "      <td>NaN</td>\n",
       "      <td>NaN</td>\n",
       "      <td>NaN</td>\n",
       "    </tr>\n",
       "    <tr>\n",
       "      <th>top</th>\n",
       "      <td>NaN</td>\n",
       "      <td>NaN</td>\n",
       "      <td>fall</td>\n",
       "      <td>NaN</td>\n",
       "      <td>NaN</td>\n",
       "      <td>NaN</td>\n",
       "      <td>NaN</td>\n",
       "      <td>NaN</td>\n",
       "      <td>NaN</td>\n",
       "      <td>NaN</td>\n",
       "      <td>NaN</td>\n",
       "      <td>NaN</td>\n",
       "      <td>NaN</td>\n",
       "      <td>NaN</td>\n",
       "      <td>NaN</td>\n",
       "      <td>NaN</td>\n",
       "      <td>NaN</td>\n",
       "      <td>NaN</td>\n",
       "    </tr>\n",
       "    <tr>\n",
       "      <th>freq</th>\n",
       "      <td>NaN</td>\n",
       "      <td>NaN</td>\n",
       "      <td>188</td>\n",
       "      <td>NaN</td>\n",
       "      <td>NaN</td>\n",
       "      <td>NaN</td>\n",
       "      <td>NaN</td>\n",
       "      <td>NaN</td>\n",
       "      <td>NaN</td>\n",
       "      <td>NaN</td>\n",
       "      <td>NaN</td>\n",
       "      <td>NaN</td>\n",
       "      <td>NaN</td>\n",
       "      <td>NaN</td>\n",
       "      <td>NaN</td>\n",
       "      <td>NaN</td>\n",
       "      <td>NaN</td>\n",
       "      <td>NaN</td>\n",
       "    </tr>\n",
       "    <tr>\n",
       "      <th>mean</th>\n",
       "      <td>366.000000</td>\n",
       "      <td>2012-01-01 00:00:00</td>\n",
       "      <td>NaN</td>\n",
       "      <td>0.500684</td>\n",
       "      <td>6.519836</td>\n",
       "      <td>0.028728</td>\n",
       "      <td>2.997264</td>\n",
       "      <td>0.683995</td>\n",
       "      <td>1.395349</td>\n",
       "      <td>0.495385</td>\n",
       "      <td>0.474354</td>\n",
       "      <td>0.627894</td>\n",
       "      <td>0.190486</td>\n",
       "      <td>848.176471</td>\n",
       "      <td>3656.172367</td>\n",
       "      <td>4504.348837</td>\n",
       "      <td>6.519836</td>\n",
       "      <td>2011.500684</td>\n",
       "    </tr>\n",
       "    <tr>\n",
       "      <th>min</th>\n",
       "      <td>1.000000</td>\n",
       "      <td>2011-01-01 00:00:00</td>\n",
       "      <td>NaN</td>\n",
       "      <td>0.000000</td>\n",
       "      <td>1.000000</td>\n",
       "      <td>0.000000</td>\n",
       "      <td>0.000000</td>\n",
       "      <td>0.000000</td>\n",
       "      <td>1.000000</td>\n",
       "      <td>0.059130</td>\n",
       "      <td>0.079070</td>\n",
       "      <td>0.000000</td>\n",
       "      <td>0.022392</td>\n",
       "      <td>2.000000</td>\n",
       "      <td>20.000000</td>\n",
       "      <td>22.000000</td>\n",
       "      <td>1.000000</td>\n",
       "      <td>2011.000000</td>\n",
       "    </tr>\n",
       "    <tr>\n",
       "      <th>25%</th>\n",
       "      <td>183.500000</td>\n",
       "      <td>2011-07-02 12:00:00</td>\n",
       "      <td>NaN</td>\n",
       "      <td>0.000000</td>\n",
       "      <td>4.000000</td>\n",
       "      <td>0.000000</td>\n",
       "      <td>1.000000</td>\n",
       "      <td>0.000000</td>\n",
       "      <td>1.000000</td>\n",
       "      <td>0.337083</td>\n",
       "      <td>0.337842</td>\n",
       "      <td>0.520000</td>\n",
       "      <td>0.134950</td>\n",
       "      <td>315.500000</td>\n",
       "      <td>2497.000000</td>\n",
       "      <td>3152.000000</td>\n",
       "      <td>4.000000</td>\n",
       "      <td>2011.000000</td>\n",
       "    </tr>\n",
       "    <tr>\n",
       "      <th>50%</th>\n",
       "      <td>366.000000</td>\n",
       "      <td>2012-01-01 00:00:00</td>\n",
       "      <td>NaN</td>\n",
       "      <td>1.000000</td>\n",
       "      <td>7.000000</td>\n",
       "      <td>0.000000</td>\n",
       "      <td>3.000000</td>\n",
       "      <td>1.000000</td>\n",
       "      <td>1.000000</td>\n",
       "      <td>0.498333</td>\n",
       "      <td>0.486733</td>\n",
       "      <td>0.626667</td>\n",
       "      <td>0.180975</td>\n",
       "      <td>713.000000</td>\n",
       "      <td>3662.000000</td>\n",
       "      <td>4548.000000</td>\n",
       "      <td>7.000000</td>\n",
       "      <td>2012.000000</td>\n",
       "    </tr>\n",
       "    <tr>\n",
       "      <th>75%</th>\n",
       "      <td>548.500000</td>\n",
       "      <td>2012-07-01 12:00:00</td>\n",
       "      <td>NaN</td>\n",
       "      <td>1.000000</td>\n",
       "      <td>10.000000</td>\n",
       "      <td>0.000000</td>\n",
       "      <td>5.000000</td>\n",
       "      <td>1.000000</td>\n",
       "      <td>2.000000</td>\n",
       "      <td>0.655417</td>\n",
       "      <td>0.608602</td>\n",
       "      <td>0.730209</td>\n",
       "      <td>0.233214</td>\n",
       "      <td>1096.000000</td>\n",
       "      <td>4776.500000</td>\n",
       "      <td>5956.000000</td>\n",
       "      <td>10.000000</td>\n",
       "      <td>2012.000000</td>\n",
       "    </tr>\n",
       "    <tr>\n",
       "      <th>max</th>\n",
       "      <td>731.000000</td>\n",
       "      <td>2012-12-31 00:00:00</td>\n",
       "      <td>NaN</td>\n",
       "      <td>1.000000</td>\n",
       "      <td>12.000000</td>\n",
       "      <td>1.000000</td>\n",
       "      <td>6.000000</td>\n",
       "      <td>1.000000</td>\n",
       "      <td>3.000000</td>\n",
       "      <td>0.861667</td>\n",
       "      <td>0.840896</td>\n",
       "      <td>0.972500</td>\n",
       "      <td>0.507463</td>\n",
       "      <td>3410.000000</td>\n",
       "      <td>6946.000000</td>\n",
       "      <td>8714.000000</td>\n",
       "      <td>12.000000</td>\n",
       "      <td>2012.000000</td>\n",
       "    </tr>\n",
       "    <tr>\n",
       "      <th>std</th>\n",
       "      <td>211.165812</td>\n",
       "      <td>NaN</td>\n",
       "      <td>NaN</td>\n",
       "      <td>0.500342</td>\n",
       "      <td>3.451913</td>\n",
       "      <td>0.167155</td>\n",
       "      <td>2.004787</td>\n",
       "      <td>0.465233</td>\n",
       "      <td>0.544894</td>\n",
       "      <td>0.183051</td>\n",
       "      <td>0.162961</td>\n",
       "      <td>0.142429</td>\n",
       "      <td>0.077498</td>\n",
       "      <td>686.622488</td>\n",
       "      <td>1560.256377</td>\n",
       "      <td>1937.211452</td>\n",
       "      <td>3.451913</td>\n",
       "      <td>0.500342</td>\n",
       "    </tr>\n",
       "  </tbody>\n",
       "</table>\n",
       "</div>"
      ],
      "text/plain": [
       "           instant               dteday season          yr        mnth  \\\n",
       "count   731.000000                  731    731  731.000000  731.000000   \n",
       "unique         NaN                  NaN      4         NaN         NaN   \n",
       "top            NaN                  NaN   fall         NaN         NaN   \n",
       "freq           NaN                  NaN    188         NaN         NaN   \n",
       "mean    366.000000  2012-01-01 00:00:00    NaN    0.500684    6.519836   \n",
       "min       1.000000  2011-01-01 00:00:00    NaN    0.000000    1.000000   \n",
       "25%     183.500000  2011-07-02 12:00:00    NaN    0.000000    4.000000   \n",
       "50%     366.000000  2012-01-01 00:00:00    NaN    1.000000    7.000000   \n",
       "75%     548.500000  2012-07-01 12:00:00    NaN    1.000000   10.000000   \n",
       "max     731.000000  2012-12-31 00:00:00    NaN    1.000000   12.000000   \n",
       "std     211.165812                  NaN    NaN    0.500342    3.451913   \n",
       "\n",
       "           holiday     weekday  workingday  weathersit        temp  \\\n",
       "count   731.000000  731.000000  731.000000  731.000000  731.000000   \n",
       "unique         NaN         NaN         NaN         NaN         NaN   \n",
       "top            NaN         NaN         NaN         NaN         NaN   \n",
       "freq           NaN         NaN         NaN         NaN         NaN   \n",
       "mean      0.028728    2.997264    0.683995    1.395349    0.495385   \n",
       "min       0.000000    0.000000    0.000000    1.000000    0.059130   \n",
       "25%       0.000000    1.000000    0.000000    1.000000    0.337083   \n",
       "50%       0.000000    3.000000    1.000000    1.000000    0.498333   \n",
       "75%       0.000000    5.000000    1.000000    2.000000    0.655417   \n",
       "max       1.000000    6.000000    1.000000    3.000000    0.861667   \n",
       "std       0.167155    2.004787    0.465233    0.544894    0.183051   \n",
       "\n",
       "             atemp         hum   windspeed       casual   registered  \\\n",
       "count   731.000000  731.000000  731.000000   731.000000   731.000000   \n",
       "unique         NaN         NaN         NaN          NaN          NaN   \n",
       "top            NaN         NaN         NaN          NaN          NaN   \n",
       "freq           NaN         NaN         NaN          NaN          NaN   \n",
       "mean      0.474354    0.627894    0.190486   848.176471  3656.172367   \n",
       "min       0.079070    0.000000    0.022392     2.000000    20.000000   \n",
       "25%       0.337842    0.520000    0.134950   315.500000  2497.000000   \n",
       "50%       0.486733    0.626667    0.180975   713.000000  3662.000000   \n",
       "75%       0.608602    0.730209    0.233214  1096.000000  4776.500000   \n",
       "max       0.840896    0.972500    0.507463  3410.000000  6946.000000   \n",
       "std       0.162961    0.142429    0.077498   686.622488  1560.256377   \n",
       "\n",
       "                cnt       month         year  \n",
       "count    731.000000  731.000000   731.000000  \n",
       "unique          NaN         NaN          NaN  \n",
       "top             NaN         NaN          NaN  \n",
       "freq            NaN         NaN          NaN  \n",
       "mean    4504.348837    6.519836  2011.500684  \n",
       "min       22.000000    1.000000  2011.000000  \n",
       "25%     3152.000000    4.000000  2011.000000  \n",
       "50%     4548.000000    7.000000  2012.000000  \n",
       "75%     5956.000000   10.000000  2012.000000  \n",
       "max     8714.000000   12.000000  2012.000000  \n",
       "std     1937.211452    3.451913     0.500342  "
      ]
     },
     "execution_count": 50,
     "metadata": {},
     "output_type": "execute_result"
    }
   ],
   "source": [
    "day_df2.describe(include=\"all\")"
   ]
  },
  {
   "cell_type": "markdown",
   "id": "9a6235c5-c772-4882-9605-ae678e5316a5",
   "metadata": {},
   "source": [
    "Based on the summary of statistical parameters above, we got information that the maximum total bike rental is 8714, and average weathersit is 1 which when weather are Clear, Few clouds, Partly cloud, Partly Cloudy.\n",
    "\n",
    "Now we'll looking at the correlation between those two, we'll look at maximum total bike rental demographic by weather. To do this we'll use groupby() and agg() method."
   ]
  },
  {
   "cell_type": "code",
   "execution_count": 51,
   "id": "aae801b4-8d09-4586-8edb-f2fdee5e1e8e",
   "metadata": {},
   "outputs": [
    {
     "data": {
      "text/html": [
       "<div>\n",
       "<style scoped>\n",
       "    .dataframe tbody tr th:only-of-type {\n",
       "        vertical-align: middle;\n",
       "    }\n",
       "\n",
       "    .dataframe tbody tr th {\n",
       "        vertical-align: top;\n",
       "    }\n",
       "\n",
       "    .dataframe thead tr th {\n",
       "        text-align: left;\n",
       "    }\n",
       "\n",
       "    .dataframe thead tr:last-of-type th {\n",
       "        text-align: right;\n",
       "    }\n",
       "</style>\n",
       "<table border=\"1\" class=\"dataframe\">\n",
       "  <thead>\n",
       "    <tr>\n",
       "      <th></th>\n",
       "      <th>instant</th>\n",
       "      <th colspan=\"4\" halign=\"left\">cnt</th>\n",
       "    </tr>\n",
       "    <tr>\n",
       "      <th></th>\n",
       "      <th>nunique</th>\n",
       "      <th>max</th>\n",
       "      <th>min</th>\n",
       "      <th>mean</th>\n",
       "      <th>std</th>\n",
       "    </tr>\n",
       "    <tr>\n",
       "      <th>weathersit</th>\n",
       "      <th></th>\n",
       "      <th></th>\n",
       "      <th></th>\n",
       "      <th></th>\n",
       "      <th></th>\n",
       "    </tr>\n",
       "  </thead>\n",
       "  <tbody>\n",
       "    <tr>\n",
       "      <th>1</th>\n",
       "      <td>463</td>\n",
       "      <td>8714</td>\n",
       "      <td>431</td>\n",
       "      <td>4876.786177</td>\n",
       "      <td>1879.483989</td>\n",
       "    </tr>\n",
       "    <tr>\n",
       "      <th>2</th>\n",
       "      <td>247</td>\n",
       "      <td>8362</td>\n",
       "      <td>605</td>\n",
       "      <td>4035.862348</td>\n",
       "      <td>1809.109918</td>\n",
       "    </tr>\n",
       "    <tr>\n",
       "      <th>3</th>\n",
       "      <td>21</td>\n",
       "      <td>4639</td>\n",
       "      <td>22</td>\n",
       "      <td>1803.285714</td>\n",
       "      <td>1240.284449</td>\n",
       "    </tr>\n",
       "  </tbody>\n",
       "</table>\n",
       "</div>"
      ],
      "text/plain": [
       "           instant   cnt                               \n",
       "           nunique   max  min         mean          std\n",
       "weathersit                                             \n",
       "1              463  8714  431  4876.786177  1879.483989\n",
       "2              247  8362  605  4035.862348  1809.109918\n",
       "3               21  4639   22  1803.285714  1240.284449"
      ]
     },
     "execution_count": 51,
     "metadata": {},
     "output_type": "execute_result"
    }
   ],
   "source": [
    "day_df2.groupby(by='weathersit').agg({\n",
    "    \"instant\": \"nunique\",\n",
    "    \"cnt\": [\"max\", \"min\", \"mean\", \"std\"]\n",
    "})"
   ]
  },
  {
   "cell_type": "markdown",
   "id": "b9cf4d93-2155-4067-857c-b0ba9fae999d",
   "metadata": {},
   "source": [
    "Based on the pivot table above, we can see that our customers are prefer to rent during **(Clear, Few clouds, Partly cloud, Partly Cloudy weather)** followed by **(Mist + Cloudy, Mist + Broken clouds, Mist + Few clouds, Mist)** in second place. On the other hand **(Heavy Rain + Ice Pallets + Thunderstorm + Mist, Snow + Fog weather)** has no enthusiasts to rent bicycles.\n",
    "\n",
    "based on **the number of renters and the maximum total** bike rent shows that in the weather **(Light Snow, Light Rain + Thunderstorm + Scattered clouds, Light Rain + Scattered clouds)** repetition of borrowing repeatedly so that cmt reaches 65% of when the weather (Clear, Few clouds, Partly cloud, Partly Cloudy weather)."
   ]
  },
  {
   "cell_type": "code",
   "execution_count": 52,
   "id": "fe10c36a-7b70-4544-99f1-9849d9486d04",
   "metadata": {},
   "outputs": [
    {
     "data": {
      "text/html": [
       "<div>\n",
       "<style scoped>\n",
       "    .dataframe tbody tr th:only-of-type {\n",
       "        vertical-align: middle;\n",
       "    }\n",
       "\n",
       "    .dataframe tbody tr th {\n",
       "        vertical-align: top;\n",
       "    }\n",
       "\n",
       "    .dataframe thead tr th {\n",
       "        text-align: left;\n",
       "    }\n",
       "\n",
       "    .dataframe thead tr:last-of-type th {\n",
       "        text-align: right;\n",
       "    }\n",
       "</style>\n",
       "<table border=\"1\" class=\"dataframe\">\n",
       "  <thead>\n",
       "    <tr>\n",
       "      <th></th>\n",
       "      <th></th>\n",
       "      <th></th>\n",
       "      <th>instant</th>\n",
       "      <th colspan=\"4\" halign=\"left\">cnt</th>\n",
       "    </tr>\n",
       "    <tr>\n",
       "      <th></th>\n",
       "      <th></th>\n",
       "      <th></th>\n",
       "      <th>nunique</th>\n",
       "      <th>max</th>\n",
       "      <th>min</th>\n",
       "      <th>mean</th>\n",
       "      <th>std</th>\n",
       "    </tr>\n",
       "    <tr>\n",
       "      <th>year</th>\n",
       "      <th>month</th>\n",
       "      <th>weathersit</th>\n",
       "      <th></th>\n",
       "      <th></th>\n",
       "      <th></th>\n",
       "      <th></th>\n",
       "      <th></th>\n",
       "    </tr>\n",
       "  </thead>\n",
       "  <tbody>\n",
       "    <tr>\n",
       "      <th rowspan=\"31\" valign=\"top\">2011</th>\n",
       "      <th rowspan=\"3\" valign=\"top\">1</th>\n",
       "      <th>1</th>\n",
       "      <td>17</td>\n",
       "      <td>1606</td>\n",
       "      <td>431</td>\n",
       "      <td>1235.529412</td>\n",
       "      <td>313.999028</td>\n",
       "    </tr>\n",
       "    <tr>\n",
       "      <th>2</th>\n",
       "      <td>13</td>\n",
       "      <td>1985</td>\n",
       "      <td>683</td>\n",
       "      <td>1283.000000</td>\n",
       "      <td>410.543948</td>\n",
       "    </tr>\n",
       "    <tr>\n",
       "      <th>3</th>\n",
       "      <td>1</td>\n",
       "      <td>506</td>\n",
       "      <td>506</td>\n",
       "      <td>506.000000</td>\n",
       "      <td>NaN</td>\n",
       "    </tr>\n",
       "    <tr>\n",
       "      <th rowspan=\"2\" valign=\"top\">2</th>\n",
       "      <th>1</th>\n",
       "      <td>19</td>\n",
       "      <td>2927</td>\n",
       "      <td>1450</td>\n",
       "      <td>1852.105263</td>\n",
       "      <td>390.089006</td>\n",
       "    </tr>\n",
       "    <tr>\n",
       "      <th>2</th>\n",
       "      <td>9</td>\n",
       "      <td>1807</td>\n",
       "      <td>1005</td>\n",
       "      <td>1447.222222</td>\n",
       "      <td>261.642780</td>\n",
       "    </tr>\n",
       "    <tr>\n",
       "      <th rowspan=\"3\" valign=\"top\">3</th>\n",
       "      <th>1</th>\n",
       "      <td>17</td>\n",
       "      <td>3239</td>\n",
       "      <td>1685</td>\n",
       "      <td>2335.470588</td>\n",
       "      <td>431.394268</td>\n",
       "    </tr>\n",
       "    <tr>\n",
       "      <th>2</th>\n",
       "      <td>12</td>\n",
       "      <td>2192</td>\n",
       "      <td>605</td>\n",
       "      <td>1836.166667</td>\n",
       "      <td>429.983474</td>\n",
       "    </tr>\n",
       "    <tr>\n",
       "      <th>3</th>\n",
       "      <td>2</td>\n",
       "      <td>1685</td>\n",
       "      <td>623</td>\n",
       "      <td>1154.000000</td>\n",
       "      <td>750.947402</td>\n",
       "    </tr>\n",
       "    <tr>\n",
       "      <th rowspan=\"3\" valign=\"top\">4</th>\n",
       "      <th>1</th>\n",
       "      <td>14</td>\n",
       "      <td>5312</td>\n",
       "      <td>2808</td>\n",
       "      <td>3742.285714</td>\n",
       "      <td>709.736401</td>\n",
       "    </tr>\n",
       "    <tr>\n",
       "      <th>2</th>\n",
       "      <td>15</td>\n",
       "      <td>4191</td>\n",
       "      <td>1471</td>\n",
       "      <td>2778.866667</td>\n",
       "      <td>942.094313</td>\n",
       "    </tr>\n",
       "    <tr>\n",
       "      <th>3</th>\n",
       "      <td>1</td>\n",
       "      <td>795</td>\n",
       "      <td>795</td>\n",
       "      <td>795.000000</td>\n",
       "      <td>NaN</td>\n",
       "    </tr>\n",
       "    <tr>\n",
       "      <th rowspan=\"2\" valign=\"top\">5</th>\n",
       "      <th>1</th>\n",
       "      <td>19</td>\n",
       "      <td>5805</td>\n",
       "      <td>3958</td>\n",
       "      <td>4610.473684</td>\n",
       "      <td>426.223385</td>\n",
       "    </tr>\n",
       "    <tr>\n",
       "      <th>2</th>\n",
       "      <td>12</td>\n",
       "      <td>4575</td>\n",
       "      <td>2633</td>\n",
       "      <td>4018.500000</td>\n",
       "      <td>603.024121</td>\n",
       "    </tr>\n",
       "    <tr>\n",
       "      <th rowspan=\"2\" valign=\"top\">6</th>\n",
       "      <th>1</th>\n",
       "      <td>21</td>\n",
       "      <td>5515</td>\n",
       "      <td>4401</td>\n",
       "      <td>4945.857143</td>\n",
       "      <td>324.715920</td>\n",
       "    </tr>\n",
       "    <tr>\n",
       "      <th>2</th>\n",
       "      <td>9</td>\n",
       "      <td>4906</td>\n",
       "      <td>3767</td>\n",
       "      <td>4405.444444</td>\n",
       "      <td>471.670465</td>\n",
       "    </tr>\n",
       "    <tr>\n",
       "      <th rowspan=\"2\" valign=\"top\">7</th>\n",
       "      <th>1</th>\n",
       "      <td>27</td>\n",
       "      <td>5923</td>\n",
       "      <td>3285</td>\n",
       "      <td>4549.074074</td>\n",
       "      <td>644.285706</td>\n",
       "    </tr>\n",
       "    <tr>\n",
       "      <th>2</th>\n",
       "      <td>4</td>\n",
       "      <td>6043</td>\n",
       "      <td>3784</td>\n",
       "      <td>4629.000000</td>\n",
       "      <td>1010.072935</td>\n",
       "    </tr>\n",
       "    <tr>\n",
       "      <th rowspan=\"2\" valign=\"top\">8</th>\n",
       "      <th>1</th>\n",
       "      <td>23</td>\n",
       "      <td>5895</td>\n",
       "      <td>3785</td>\n",
       "      <td>4672.478261</td>\n",
       "      <td>488.929803</td>\n",
       "    </tr>\n",
       "    <tr>\n",
       "      <th>2</th>\n",
       "      <td>8</td>\n",
       "      <td>4576</td>\n",
       "      <td>1115</td>\n",
       "      <td>3653.000000</td>\n",
       "      <td>1085.469879</td>\n",
       "    </tr>\n",
       "    <tr>\n",
       "      <th rowspan=\"3\" valign=\"top\">9</th>\n",
       "      <th>1</th>\n",
       "      <td>11</td>\n",
       "      <td>5345</td>\n",
       "      <td>4274</td>\n",
       "      <td>4864.181818</td>\n",
       "      <td>313.029334</td>\n",
       "    </tr>\n",
       "    <tr>\n",
       "      <th>2</th>\n",
       "      <td>16</td>\n",
       "      <td>5423</td>\n",
       "      <td>2395</td>\n",
       "      <td>4210.250000</td>\n",
       "      <td>758.143390</td>\n",
       "    </tr>\n",
       "    <tr>\n",
       "      <th>3</th>\n",
       "      <td>3</td>\n",
       "      <td>2710</td>\n",
       "      <td>1842</td>\n",
       "      <td>2182.666667</td>\n",
       "      <td>463.129931</td>\n",
       "    </tr>\n",
       "    <tr>\n",
       "      <th rowspan=\"3\" valign=\"top\">10</th>\n",
       "      <th>1</th>\n",
       "      <td>18</td>\n",
       "      <td>5511</td>\n",
       "      <td>3331</td>\n",
       "      <td>4608.833333</td>\n",
       "      <td>574.647948</td>\n",
       "    </tr>\n",
       "    <tr>\n",
       "      <th>2</th>\n",
       "      <td>10</td>\n",
       "      <td>4748</td>\n",
       "      <td>2429</td>\n",
       "      <td>3508.500000</td>\n",
       "      <td>779.333512</td>\n",
       "    </tr>\n",
       "    <tr>\n",
       "      <th>3</th>\n",
       "      <td>3</td>\n",
       "      <td>2424</td>\n",
       "      <td>627</td>\n",
       "      <td>1822.333333</td>\n",
       "      <td>1035.196761</td>\n",
       "    </tr>\n",
       "    <tr>\n",
       "      <th rowspan=\"3\" valign=\"top\">11</th>\n",
       "      <th>1</th>\n",
       "      <td>20</td>\n",
       "      <td>4486</td>\n",
       "      <td>1495</td>\n",
       "      <td>3637.550000</td>\n",
       "      <td>666.220564</td>\n",
       "    </tr>\n",
       "    <tr>\n",
       "      <th>2</th>\n",
       "      <td>7</td>\n",
       "      <td>4195</td>\n",
       "      <td>2566</td>\n",
       "      <td>3318.142857</td>\n",
       "      <td>617.398690</td>\n",
       "    </tr>\n",
       "    <tr>\n",
       "      <th>3</th>\n",
       "      <td>3</td>\n",
       "      <td>2765</td>\n",
       "      <td>1607</td>\n",
       "      <td>2063.000000</td>\n",
       "      <td>616.950565</td>\n",
       "    </tr>\n",
       "    <tr>\n",
       "      <th rowspan=\"3\" valign=\"top\">12</th>\n",
       "      <th>1</th>\n",
       "      <td>20</td>\n",
       "      <td>3940</td>\n",
       "      <td>754</td>\n",
       "      <td>2790.400000</td>\n",
       "      <td>921.552032</td>\n",
       "    </tr>\n",
       "    <tr>\n",
       "      <th>2</th>\n",
       "      <td>9</td>\n",
       "      <td>3811</td>\n",
       "      <td>1162</td>\n",
       "      <td>3135.111111</td>\n",
       "      <td>866.438464</td>\n",
       "    </tr>\n",
       "    <tr>\n",
       "      <th>3</th>\n",
       "      <td>2</td>\n",
       "      <td>2594</td>\n",
       "      <td>705</td>\n",
       "      <td>1649.500000</td>\n",
       "      <td>1335.724710</td>\n",
       "    </tr>\n",
       "    <tr>\n",
       "      <th rowspan=\"29\" valign=\"top\">2012</th>\n",
       "      <th rowspan=\"2\" valign=\"top\">1</th>\n",
       "      <th>1</th>\n",
       "      <td>20</td>\n",
       "      <td>4521</td>\n",
       "      <td>1951</td>\n",
       "      <td>3319.350000</td>\n",
       "      <td>825.545069</td>\n",
       "    </tr>\n",
       "    <tr>\n",
       "      <th>2</th>\n",
       "      <td>11</td>\n",
       "      <td>4097</td>\n",
       "      <td>1301</td>\n",
       "      <td>2759.727273</td>\n",
       "      <td>876.618856</td>\n",
       "    </tr>\n",
       "    <tr>\n",
       "      <th rowspan=\"3\" valign=\"top\">2</th>\n",
       "      <th>1</th>\n",
       "      <td>18</td>\n",
       "      <td>5062</td>\n",
       "      <td>1529</td>\n",
       "      <td>3881.000000</td>\n",
       "      <td>828.286395</td>\n",
       "    </tr>\n",
       "    <tr>\n",
       "      <th>2</th>\n",
       "      <td>10</td>\n",
       "      <td>3922</td>\n",
       "      <td>1834</td>\n",
       "      <td>3111.000000</td>\n",
       "      <td>646.380005</td>\n",
       "    </tr>\n",
       "    <tr>\n",
       "      <th>3</th>\n",
       "      <td>1</td>\n",
       "      <td>2169</td>\n",
       "      <td>2169</td>\n",
       "      <td>2169.000000</td>\n",
       "      <td>NaN</td>\n",
       "    </tr>\n",
       "    <tr>\n",
       "      <th rowspan=\"2\" valign=\"top\">3</th>\n",
       "      <th>1</th>\n",
       "      <td>19</td>\n",
       "      <td>6871</td>\n",
       "      <td>3333</td>\n",
       "      <td>5278.210526</td>\n",
       "      <td>996.935280</td>\n",
       "    </tr>\n",
       "    <tr>\n",
       "      <th>2</th>\n",
       "      <td>12</td>\n",
       "      <td>8362</td>\n",
       "      <td>3194</td>\n",
       "      <td>5382.416667</td>\n",
       "      <td>1623.479342</td>\n",
       "    </tr>\n",
       "    <tr>\n",
       "      <th rowspan=\"3\" valign=\"top\">4</th>\n",
       "      <th>1</th>\n",
       "      <td>23</td>\n",
       "      <td>7460</td>\n",
       "      <td>4862</td>\n",
       "      <td>6293.782609</td>\n",
       "      <td>651.994838</td>\n",
       "    </tr>\n",
       "    <tr>\n",
       "      <th>2</th>\n",
       "      <td>6</td>\n",
       "      <td>6041</td>\n",
       "      <td>3214</td>\n",
       "      <td>4740.000000</td>\n",
       "      <td>1020.277021</td>\n",
       "    </tr>\n",
       "    <tr>\n",
       "      <th>3</th>\n",
       "      <td>1</td>\n",
       "      <td>1027</td>\n",
       "      <td>1027</td>\n",
       "      <td>1027.000000</td>\n",
       "      <td>NaN</td>\n",
       "    </tr>\n",
       "    <tr>\n",
       "      <th rowspan=\"2\" valign=\"top\">5</th>\n",
       "      <th>1</th>\n",
       "      <td>18</td>\n",
       "      <td>8294</td>\n",
       "      <td>5743</td>\n",
       "      <td>6846.611111</td>\n",
       "      <td>662.070028</td>\n",
       "    </tr>\n",
       "    <tr>\n",
       "      <th>2</th>\n",
       "      <td>13</td>\n",
       "      <td>6883</td>\n",
       "      <td>2843</td>\n",
       "      <td>5586.615385</td>\n",
       "      <td>1134.797819</td>\n",
       "    </tr>\n",
       "    <tr>\n",
       "      <th rowspan=\"2\" valign=\"top\">6</th>\n",
       "      <th>1</th>\n",
       "      <td>25</td>\n",
       "      <td>8120</td>\n",
       "      <td>5463</td>\n",
       "      <td>6998.680000</td>\n",
       "      <td>707.833650</td>\n",
       "    </tr>\n",
       "    <tr>\n",
       "      <th>2</th>\n",
       "      <td>5</td>\n",
       "      <td>7001</td>\n",
       "      <td>4127</td>\n",
       "      <td>5572.600000</td>\n",
       "      <td>1215.139622</td>\n",
       "    </tr>\n",
       "    <tr>\n",
       "      <th rowspan=\"3\" valign=\"top\">7</th>\n",
       "      <th>1</th>\n",
       "      <td>24</td>\n",
       "      <td>8173</td>\n",
       "      <td>4672</td>\n",
       "      <td>6605.875000</td>\n",
       "      <td>828.222419</td>\n",
       "    </tr>\n",
       "    <tr>\n",
       "      <th>2</th>\n",
       "      <td>6</td>\n",
       "      <td>7499</td>\n",
       "      <td>5870</td>\n",
       "      <td>6767.833333</td>\n",
       "      <td>642.092646</td>\n",
       "    </tr>\n",
       "    <tr>\n",
       "      <th>3</th>\n",
       "      <td>1</td>\n",
       "      <td>4459</td>\n",
       "      <td>4459</td>\n",
       "      <td>4459.000000</td>\n",
       "      <td>NaN</td>\n",
       "    </tr>\n",
       "    <tr>\n",
       "      <th rowspan=\"2\" valign=\"top\">8</th>\n",
       "      <th>1</th>\n",
       "      <td>20</td>\n",
       "      <td>7865</td>\n",
       "      <td>5464</td>\n",
       "      <td>7172.700000</td>\n",
       "      <td>545.603490</td>\n",
       "    </tr>\n",
       "    <tr>\n",
       "      <th>2</th>\n",
       "      <td>11</td>\n",
       "      <td>7582</td>\n",
       "      <td>4549</td>\n",
       "      <td>6459.000000</td>\n",
       "      <td>982.091849</td>\n",
       "    </tr>\n",
       "    <tr>\n",
       "      <th rowspan=\"2\" valign=\"top\">9</th>\n",
       "      <th>1</th>\n",
       "      <td>22</td>\n",
       "      <td>8714</td>\n",
       "      <td>6034</td>\n",
       "      <td>7667.909091</td>\n",
       "      <td>605.093453</td>\n",
       "    </tr>\n",
       "    <tr>\n",
       "      <th>2</th>\n",
       "      <td>8</td>\n",
       "      <td>7415</td>\n",
       "      <td>4073</td>\n",
       "      <td>6234.875000</td>\n",
       "      <td>1073.533476</td>\n",
       "    </tr>\n",
       "    <tr>\n",
       "      <th rowspan=\"3\" valign=\"top\">10</th>\n",
       "      <th>1</th>\n",
       "      <td>14</td>\n",
       "      <td>8156</td>\n",
       "      <td>6639</td>\n",
       "      <td>7467.000000</td>\n",
       "      <td>451.999319</td>\n",
       "    </tr>\n",
       "    <tr>\n",
       "      <th>2</th>\n",
       "      <td>15</td>\n",
       "      <td>7852</td>\n",
       "      <td>1096</td>\n",
       "      <td>5976.133333</td>\n",
       "      <td>1852.727945</td>\n",
       "    </tr>\n",
       "    <tr>\n",
       "      <th>3</th>\n",
       "      <td>2</td>\n",
       "      <td>4639</td>\n",
       "      <td>22</td>\n",
       "      <td>2330.500000</td>\n",
       "      <td>3264.712009</td>\n",
       "    </tr>\n",
       "    <tr>\n",
       "      <th rowspan=\"2\" valign=\"top\">11</th>\n",
       "      <th>1</th>\n",
       "      <td>22</td>\n",
       "      <td>6852</td>\n",
       "      <td>2277</td>\n",
       "      <td>5085.181818</td>\n",
       "      <td>1260.072811</td>\n",
       "    </tr>\n",
       "    <tr>\n",
       "      <th>2</th>\n",
       "      <td>8</td>\n",
       "      <td>5986</td>\n",
       "      <td>3959</td>\n",
       "      <td>5098.750000</td>\n",
       "      <td>723.873657</td>\n",
       "    </tr>\n",
       "    <tr>\n",
       "      <th rowspan=\"3\" valign=\"top\">12</th>\n",
       "      <th>1</th>\n",
       "      <td>12</td>\n",
       "      <td>6606</td>\n",
       "      <td>1749</td>\n",
       "      <td>4690.833333</td>\n",
       "      <td>1804.668886</td>\n",
       "    </tr>\n",
       "    <tr>\n",
       "      <th>2</th>\n",
       "      <td>18</td>\n",
       "      <td>5582</td>\n",
       "      <td>920</td>\n",
       "      <td>3721.222222</td>\n",
       "      <td>1570.576049</td>\n",
       "    </tr>\n",
       "    <tr>\n",
       "      <th>3</th>\n",
       "      <td>1</td>\n",
       "      <td>441</td>\n",
       "      <td>441</td>\n",
       "      <td>441.000000</td>\n",
       "      <td>NaN</td>\n",
       "    </tr>\n",
       "  </tbody>\n",
       "</table>\n",
       "</div>"
      ],
      "text/plain": [
       "                      instant   cnt                                \n",
       "                      nunique   max   min         mean          std\n",
       "year month weathersit                                              \n",
       "2011 1     1               17  1606   431  1235.529412   313.999028\n",
       "           2               13  1985   683  1283.000000   410.543948\n",
       "           3                1   506   506   506.000000          NaN\n",
       "     2     1               19  2927  1450  1852.105263   390.089006\n",
       "           2                9  1807  1005  1447.222222   261.642780\n",
       "     3     1               17  3239  1685  2335.470588   431.394268\n",
       "           2               12  2192   605  1836.166667   429.983474\n",
       "           3                2  1685   623  1154.000000   750.947402\n",
       "     4     1               14  5312  2808  3742.285714   709.736401\n",
       "           2               15  4191  1471  2778.866667   942.094313\n",
       "           3                1   795   795   795.000000          NaN\n",
       "     5     1               19  5805  3958  4610.473684   426.223385\n",
       "           2               12  4575  2633  4018.500000   603.024121\n",
       "     6     1               21  5515  4401  4945.857143   324.715920\n",
       "           2                9  4906  3767  4405.444444   471.670465\n",
       "     7     1               27  5923  3285  4549.074074   644.285706\n",
       "           2                4  6043  3784  4629.000000  1010.072935\n",
       "     8     1               23  5895  3785  4672.478261   488.929803\n",
       "           2                8  4576  1115  3653.000000  1085.469879\n",
       "     9     1               11  5345  4274  4864.181818   313.029334\n",
       "           2               16  5423  2395  4210.250000   758.143390\n",
       "           3                3  2710  1842  2182.666667   463.129931\n",
       "     10    1               18  5511  3331  4608.833333   574.647948\n",
       "           2               10  4748  2429  3508.500000   779.333512\n",
       "           3                3  2424   627  1822.333333  1035.196761\n",
       "     11    1               20  4486  1495  3637.550000   666.220564\n",
       "           2                7  4195  2566  3318.142857   617.398690\n",
       "           3                3  2765  1607  2063.000000   616.950565\n",
       "     12    1               20  3940   754  2790.400000   921.552032\n",
       "           2                9  3811  1162  3135.111111   866.438464\n",
       "           3                2  2594   705  1649.500000  1335.724710\n",
       "2012 1     1               20  4521  1951  3319.350000   825.545069\n",
       "           2               11  4097  1301  2759.727273   876.618856\n",
       "     2     1               18  5062  1529  3881.000000   828.286395\n",
       "           2               10  3922  1834  3111.000000   646.380005\n",
       "           3                1  2169  2169  2169.000000          NaN\n",
       "     3     1               19  6871  3333  5278.210526   996.935280\n",
       "           2               12  8362  3194  5382.416667  1623.479342\n",
       "     4     1               23  7460  4862  6293.782609   651.994838\n",
       "           2                6  6041  3214  4740.000000  1020.277021\n",
       "           3                1  1027  1027  1027.000000          NaN\n",
       "     5     1               18  8294  5743  6846.611111   662.070028\n",
       "           2               13  6883  2843  5586.615385  1134.797819\n",
       "     6     1               25  8120  5463  6998.680000   707.833650\n",
       "           2                5  7001  4127  5572.600000  1215.139622\n",
       "     7     1               24  8173  4672  6605.875000   828.222419\n",
       "           2                6  7499  5870  6767.833333   642.092646\n",
       "           3                1  4459  4459  4459.000000          NaN\n",
       "     8     1               20  7865  5464  7172.700000   545.603490\n",
       "           2               11  7582  4549  6459.000000   982.091849\n",
       "     9     1               22  8714  6034  7667.909091   605.093453\n",
       "           2                8  7415  4073  6234.875000  1073.533476\n",
       "     10    1               14  8156  6639  7467.000000   451.999319\n",
       "           2               15  7852  1096  5976.133333  1852.727945\n",
       "           3                2  4639    22  2330.500000  3264.712009\n",
       "     11    1               22  6852  2277  5085.181818  1260.072811\n",
       "           2                8  5986  3959  5098.750000   723.873657\n",
       "     12    1               12  6606  1749  4690.833333  1804.668886\n",
       "           2               18  5582   920  3721.222222  1570.576049\n",
       "           3                1   441   441   441.000000          NaN"
      ]
     },
     "execution_count": 52,
     "metadata": {},
     "output_type": "execute_result"
    }
   ],
   "source": [
    "day_df2.groupby(['year', 'month', 'weathersit']).agg({\n",
    "    \"instant\": \"nunique\",\n",
    "    \"cnt\": [\"max\", \"min\", \"mean\", \"std\"]\n",
    "})"
   ]
  },
  {
   "cell_type": "markdown",
   "id": "efee831d-48b0-4bd4-935b-d0842aa85e63",
   "metadata": {},
   "source": [
    "Based on the pivot table above, **the peak rental of bicycle occurs in the 8th, 9th, and 10th months**, which is **the summer & fall season**. And **the spike in bike rentals always starts in the 5th month of 2011 and the 3rd month of 2012**, which is **early spring to late spring**. "
   ]
  },
  {
   "cell_type": "code",
   "execution_count": 53,
   "id": "2e202eba-a958-489c-b1fb-751c48c92983",
   "metadata": {},
   "outputs": [
    {
     "data": {
      "text/html": [
       "<div>\n",
       "<style scoped>\n",
       "    .dataframe tbody tr th:only-of-type {\n",
       "        vertical-align: middle;\n",
       "    }\n",
       "\n",
       "    .dataframe tbody tr th {\n",
       "        vertical-align: top;\n",
       "    }\n",
       "\n",
       "    .dataframe thead tr th {\n",
       "        text-align: left;\n",
       "    }\n",
       "\n",
       "    .dataframe thead tr:last-of-type th {\n",
       "        text-align: right;\n",
       "    }\n",
       "</style>\n",
       "<table border=\"1\" class=\"dataframe\">\n",
       "  <thead>\n",
       "    <tr>\n",
       "      <th></th>\n",
       "      <th>instant</th>\n",
       "      <th colspan=\"4\" halign=\"left\">casual</th>\n",
       "    </tr>\n",
       "    <tr>\n",
       "      <th></th>\n",
       "      <th>nunique</th>\n",
       "      <th>max</th>\n",
       "      <th>min</th>\n",
       "      <th>mean</th>\n",
       "      <th>std</th>\n",
       "    </tr>\n",
       "    <tr>\n",
       "      <th>weathersit</th>\n",
       "      <th></th>\n",
       "      <th></th>\n",
       "      <th></th>\n",
       "      <th></th>\n",
       "      <th></th>\n",
       "    </tr>\n",
       "  </thead>\n",
       "  <tbody>\n",
       "    <tr>\n",
       "      <th>1</th>\n",
       "      <td>11413</td>\n",
       "      <td>367</td>\n",
       "      <td>0</td>\n",
       "      <td>40.545431</td>\n",
       "      <td>53.126559</td>\n",
       "    </tr>\n",
       "    <tr>\n",
       "      <th>2</th>\n",
       "      <td>4544</td>\n",
       "      <td>350</td>\n",
       "      <td>0</td>\n",
       "      <td>29.595290</td>\n",
       "      <td>41.356704</td>\n",
       "    </tr>\n",
       "    <tr>\n",
       "      <th>3</th>\n",
       "      <td>1419</td>\n",
       "      <td>263</td>\n",
       "      <td>0</td>\n",
       "      <td>16.055673</td>\n",
       "      <td>30.017327</td>\n",
       "    </tr>\n",
       "    <tr>\n",
       "      <th>4</th>\n",
       "      <td>3</td>\n",
       "      <td>6</td>\n",
       "      <td>1</td>\n",
       "      <td>2.666667</td>\n",
       "      <td>2.886751</td>\n",
       "    </tr>\n",
       "  </tbody>\n",
       "</table>\n",
       "</div>"
      ],
      "text/plain": [
       "           instant casual                          \n",
       "           nunique    max min       mean        std\n",
       "weathersit                                         \n",
       "1            11413    367   0  40.545431  53.126559\n",
       "2             4544    350   0  29.595290  41.356704\n",
       "3             1419    263   0  16.055673  30.017327\n",
       "4                3      6   1   2.666667   2.886751"
      ]
     },
     "execution_count": 53,
     "metadata": {},
     "output_type": "execute_result"
    }
   ],
   "source": [
    "hour_df2.groupby(by='weathersit').agg({\n",
    "    \"instant\": \"nunique\",\n",
    "    \"casual\": [\"max\", \"min\", \"mean\", \"std\"]\n",
    "})"
   ]
  },
  {
   "cell_type": "markdown",
   "id": "9a396093-5937-4fd2-91da-b97ee26bfe80",
   "metadata": {},
   "source": [
    "Likewise, **the highest casual bike rentals** occurred in the weather **(Clear, Few clouds, Partly cloud, Partly Cloudy weather)**."
   ]
  },
  {
   "cell_type": "code",
   "execution_count": 54,
   "id": "7698200d-8107-4911-9da1-d538d726ca57",
   "metadata": {
    "scrolled": true
   },
   "outputs": [
    {
     "data": {
      "text/html": [
       "<div>\n",
       "<style scoped>\n",
       "    .dataframe tbody tr th:only-of-type {\n",
       "        vertical-align: middle;\n",
       "    }\n",
       "\n",
       "    .dataframe tbody tr th {\n",
       "        vertical-align: top;\n",
       "    }\n",
       "\n",
       "    .dataframe thead tr th {\n",
       "        text-align: left;\n",
       "    }\n",
       "\n",
       "    .dataframe thead tr:last-of-type th {\n",
       "        text-align: right;\n",
       "    }\n",
       "</style>\n",
       "<table border=\"1\" class=\"dataframe\">\n",
       "  <thead>\n",
       "    <tr>\n",
       "      <th></th>\n",
       "      <th></th>\n",
       "      <th></th>\n",
       "      <th>instant</th>\n",
       "      <th colspan=\"4\" halign=\"left\">casual</th>\n",
       "    </tr>\n",
       "    <tr>\n",
       "      <th></th>\n",
       "      <th></th>\n",
       "      <th></th>\n",
       "      <th>nunique</th>\n",
       "      <th>max</th>\n",
       "      <th>min</th>\n",
       "      <th>mean</th>\n",
       "      <th>std</th>\n",
       "    </tr>\n",
       "    <tr>\n",
       "      <th>year</th>\n",
       "      <th>month</th>\n",
       "      <th>weathersit</th>\n",
       "      <th></th>\n",
       "      <th></th>\n",
       "      <th></th>\n",
       "      <th></th>\n",
       "      <th></th>\n",
       "    </tr>\n",
       "  </thead>\n",
       "  <tbody>\n",
       "    <tr>\n",
       "      <th rowspan=\"28\" valign=\"top\">2011.0</th>\n",
       "      <th rowspan=\"3\" valign=\"top\">1.0</th>\n",
       "      <th>1</th>\n",
       "      <td>12</td>\n",
       "      <td>29</td>\n",
       "      <td>0</td>\n",
       "      <td>8.166667</td>\n",
       "      <td>9.712535</td>\n",
       "    </tr>\n",
       "    <tr>\n",
       "      <th>2</th>\n",
       "      <td>16</td>\n",
       "      <td>47</td>\n",
       "      <td>0</td>\n",
       "      <td>14.250000</td>\n",
       "      <td>16.719250</td>\n",
       "    </tr>\n",
       "    <tr>\n",
       "      <th>3</th>\n",
       "      <td>3</td>\n",
       "      <td>9</td>\n",
       "      <td>0</td>\n",
       "      <td>5.000000</td>\n",
       "      <td>4.582576</td>\n",
       "    </tr>\n",
       "    <tr>\n",
       "      <th rowspan=\"3\" valign=\"top\">2.0</th>\n",
       "      <th>1</th>\n",
       "      <td>18</td>\n",
       "      <td>13</td>\n",
       "      <td>0</td>\n",
       "      <td>4.166667</td>\n",
       "      <td>4.780475</td>\n",
       "    </tr>\n",
       "    <tr>\n",
       "      <th>2</th>\n",
       "      <td>6</td>\n",
       "      <td>20</td>\n",
       "      <td>1</td>\n",
       "      <td>10.833333</td>\n",
       "      <td>6.675827</td>\n",
       "    </tr>\n",
       "    <tr>\n",
       "      <th>3</th>\n",
       "      <td>4</td>\n",
       "      <td>19</td>\n",
       "      <td>0</td>\n",
       "      <td>8.000000</td>\n",
       "      <td>8.205689</td>\n",
       "    </tr>\n",
       "    <tr>\n",
       "      <th rowspan=\"2\" valign=\"top\">3.0</th>\n",
       "      <th>1</th>\n",
       "      <td>30</td>\n",
       "      <td>18</td>\n",
       "      <td>0</td>\n",
       "      <td>5.633333</td>\n",
       "      <td>5.780367</td>\n",
       "    </tr>\n",
       "    <tr>\n",
       "      <th>2</th>\n",
       "      <td>1</td>\n",
       "      <td>5</td>\n",
       "      <td>5</td>\n",
       "      <td>5.000000</td>\n",
       "      <td>NaN</td>\n",
       "    </tr>\n",
       "    <tr>\n",
       "      <th rowspan=\"2\" valign=\"top\">4.0</th>\n",
       "      <th>1</th>\n",
       "      <td>28</td>\n",
       "      <td>12</td>\n",
       "      <td>0</td>\n",
       "      <td>3.035714</td>\n",
       "      <td>3.271449</td>\n",
       "    </tr>\n",
       "    <tr>\n",
       "      <th>2</th>\n",
       "      <td>2</td>\n",
       "      <td>0</td>\n",
       "      <td>0</td>\n",
       "      <td>0.000000</td>\n",
       "      <td>0.000000</td>\n",
       "    </tr>\n",
       "    <tr>\n",
       "      <th rowspan=\"3\" valign=\"top\">5.0</th>\n",
       "      <th>1</th>\n",
       "      <td>16</td>\n",
       "      <td>20</td>\n",
       "      <td>2</td>\n",
       "      <td>8.125000</td>\n",
       "      <td>5.162364</td>\n",
       "    </tr>\n",
       "    <tr>\n",
       "      <th>2</th>\n",
       "      <td>14</td>\n",
       "      <td>19</td>\n",
       "      <td>0</td>\n",
       "      <td>4.428571</td>\n",
       "      <td>5.445030</td>\n",
       "    </tr>\n",
       "    <tr>\n",
       "      <th>3</th>\n",
       "      <td>1</td>\n",
       "      <td>0</td>\n",
       "      <td>0</td>\n",
       "      <td>0.000000</td>\n",
       "      <td>NaN</td>\n",
       "    </tr>\n",
       "    <tr>\n",
       "      <th rowspan=\"3\" valign=\"top\">6.0</th>\n",
       "      <th>1</th>\n",
       "      <td>11</td>\n",
       "      <td>12</td>\n",
       "      <td>0</td>\n",
       "      <td>5.000000</td>\n",
       "      <td>3.405877</td>\n",
       "    </tr>\n",
       "    <tr>\n",
       "      <th>2</th>\n",
       "      <td>15</td>\n",
       "      <td>9</td>\n",
       "      <td>0</td>\n",
       "      <td>3.600000</td>\n",
       "      <td>3.290679</td>\n",
       "    </tr>\n",
       "    <tr>\n",
       "      <th>3</th>\n",
       "      <td>4</td>\n",
       "      <td>0</td>\n",
       "      <td>0</td>\n",
       "      <td>0.000000</td>\n",
       "      <td>0.000000</td>\n",
       "    </tr>\n",
       "    <tr>\n",
       "      <th>7.0</th>\n",
       "      <th>1</th>\n",
       "      <td>31</td>\n",
       "      <td>13</td>\n",
       "      <td>0</td>\n",
       "      <td>1.935484</td>\n",
       "      <td>2.954494</td>\n",
       "    </tr>\n",
       "    <tr>\n",
       "      <th rowspan=\"2\" valign=\"top\">8.0</th>\n",
       "      <th>1</th>\n",
       "      <td>15</td>\n",
       "      <td>4</td>\n",
       "      <td>0</td>\n",
       "      <td>1.400000</td>\n",
       "      <td>1.404076</td>\n",
       "    </tr>\n",
       "    <tr>\n",
       "      <th>2</th>\n",
       "      <td>16</td>\n",
       "      <td>5</td>\n",
       "      <td>0</td>\n",
       "      <td>2.125000</td>\n",
       "      <td>1.707825</td>\n",
       "    </tr>\n",
       "    <tr>\n",
       "      <th rowspan=\"3\" valign=\"top\">9.0</th>\n",
       "      <th>1</th>\n",
       "      <td>16</td>\n",
       "      <td>5</td>\n",
       "      <td>0</td>\n",
       "      <td>1.312500</td>\n",
       "      <td>1.621471</td>\n",
       "    </tr>\n",
       "    <tr>\n",
       "      <th>2</th>\n",
       "      <td>8</td>\n",
       "      <td>6</td>\n",
       "      <td>0</td>\n",
       "      <td>2.875000</td>\n",
       "      <td>2.356602</td>\n",
       "    </tr>\n",
       "    <tr>\n",
       "      <th>3</th>\n",
       "      <td>6</td>\n",
       "      <td>1</td>\n",
       "      <td>0</td>\n",
       "      <td>0.500000</td>\n",
       "      <td>0.547723</td>\n",
       "    </tr>\n",
       "    <tr>\n",
       "      <th rowspan=\"2\" valign=\"top\">10.0</th>\n",
       "      <th>1</th>\n",
       "      <td>29</td>\n",
       "      <td>5</td>\n",
       "      <td>0</td>\n",
       "      <td>1.241379</td>\n",
       "      <td>1.573331</td>\n",
       "    </tr>\n",
       "    <tr>\n",
       "      <th>2</th>\n",
       "      <td>2</td>\n",
       "      <td>4</td>\n",
       "      <td>2</td>\n",
       "      <td>3.000000</td>\n",
       "      <td>1.414214</td>\n",
       "    </tr>\n",
       "    <tr>\n",
       "      <th rowspan=\"2\" valign=\"top\">11.0</th>\n",
       "      <th>1</th>\n",
       "      <td>24</td>\n",
       "      <td>9</td>\n",
       "      <td>0</td>\n",
       "      <td>2.458333</td>\n",
       "      <td>2.358687</td>\n",
       "    </tr>\n",
       "    <tr>\n",
       "      <th>2</th>\n",
       "      <td>6</td>\n",
       "      <td>2</td>\n",
       "      <td>0</td>\n",
       "      <td>1.000000</td>\n",
       "      <td>0.894427</td>\n",
       "    </tr>\n",
       "    <tr>\n",
       "      <th rowspan=\"2\" valign=\"top\">12.0</th>\n",
       "      <th>1</th>\n",
       "      <td>20</td>\n",
       "      <td>35</td>\n",
       "      <td>0</td>\n",
       "      <td>13.700000</td>\n",
       "      <td>10.877790</td>\n",
       "    </tr>\n",
       "    <tr>\n",
       "      <th>2</th>\n",
       "      <td>11</td>\n",
       "      <td>33</td>\n",
       "      <td>0</td>\n",
       "      <td>11.363636</td>\n",
       "      <td>12.018924</td>\n",
       "    </tr>\n",
       "    <tr>\n",
       "      <th rowspan=\"32\" valign=\"top\">2012.0</th>\n",
       "      <th rowspan=\"3\" valign=\"top\">1.0</th>\n",
       "      <th>1</th>\n",
       "      <td>6</td>\n",
       "      <td>23</td>\n",
       "      <td>4</td>\n",
       "      <td>10.833333</td>\n",
       "      <td>6.968979</td>\n",
       "    </tr>\n",
       "    <tr>\n",
       "      <th>2</th>\n",
       "      <td>20</td>\n",
       "      <td>21</td>\n",
       "      <td>0</td>\n",
       "      <td>5.250000</td>\n",
       "      <td>5.683540</td>\n",
       "    </tr>\n",
       "    <tr>\n",
       "      <th>3</th>\n",
       "      <td>5</td>\n",
       "      <td>4</td>\n",
       "      <td>0</td>\n",
       "      <td>2.000000</td>\n",
       "      <td>1.581139</td>\n",
       "    </tr>\n",
       "    <tr>\n",
       "      <th rowspan=\"3\" valign=\"top\">2.0</th>\n",
       "      <th>1</th>\n",
       "      <td>5</td>\n",
       "      <td>11</td>\n",
       "      <td>4</td>\n",
       "      <td>7.800000</td>\n",
       "      <td>2.774887</td>\n",
       "    </tr>\n",
       "    <tr>\n",
       "      <th>2</th>\n",
       "      <td>21</td>\n",
       "      <td>5</td>\n",
       "      <td>0</td>\n",
       "      <td>1.142857</td>\n",
       "      <td>1.525966</td>\n",
       "    </tr>\n",
       "    <tr>\n",
       "      <th>3</th>\n",
       "      <td>3</td>\n",
       "      <td>1</td>\n",
       "      <td>0</td>\n",
       "      <td>0.666667</td>\n",
       "      <td>0.577350</td>\n",
       "    </tr>\n",
       "    <tr>\n",
       "      <th rowspan=\"2\" valign=\"top\">3.0</th>\n",
       "      <th>1</th>\n",
       "      <td>17</td>\n",
       "      <td>6</td>\n",
       "      <td>0</td>\n",
       "      <td>2.294118</td>\n",
       "      <td>2.229482</td>\n",
       "    </tr>\n",
       "    <tr>\n",
       "      <th>2</th>\n",
       "      <td>14</td>\n",
       "      <td>12</td>\n",
       "      <td>0</td>\n",
       "      <td>4.785714</td>\n",
       "      <td>3.490175</td>\n",
       "    </tr>\n",
       "    <tr>\n",
       "      <th rowspan=\"3\" valign=\"top\">4.0</th>\n",
       "      <th>1</th>\n",
       "      <td>21</td>\n",
       "      <td>11</td>\n",
       "      <td>0</td>\n",
       "      <td>3.523810</td>\n",
       "      <td>3.627934</td>\n",
       "    </tr>\n",
       "    <tr>\n",
       "      <th>2</th>\n",
       "      <td>7</td>\n",
       "      <td>3</td>\n",
       "      <td>0</td>\n",
       "      <td>0.571429</td>\n",
       "      <td>1.133893</td>\n",
       "    </tr>\n",
       "    <tr>\n",
       "      <th>3</th>\n",
       "      <td>2</td>\n",
       "      <td>0</td>\n",
       "      <td>0</td>\n",
       "      <td>0.000000</td>\n",
       "      <td>0.000000</td>\n",
       "    </tr>\n",
       "    <tr>\n",
       "      <th rowspan=\"2\" valign=\"top\">5.0</th>\n",
       "      <th>1</th>\n",
       "      <td>26</td>\n",
       "      <td>24</td>\n",
       "      <td>0</td>\n",
       "      <td>6.923077</td>\n",
       "      <td>6.764159</td>\n",
       "    </tr>\n",
       "    <tr>\n",
       "      <th>2</th>\n",
       "      <td>5</td>\n",
       "      <td>10</td>\n",
       "      <td>0</td>\n",
       "      <td>3.400000</td>\n",
       "      <td>4.098780</td>\n",
       "    </tr>\n",
       "    <tr>\n",
       "      <th rowspan=\"2\" valign=\"top\">6.0</th>\n",
       "      <th>1</th>\n",
       "      <td>26</td>\n",
       "      <td>9</td>\n",
       "      <td>0</td>\n",
       "      <td>3.961538</td>\n",
       "      <td>2.675530</td>\n",
       "    </tr>\n",
       "    <tr>\n",
       "      <th>2</th>\n",
       "      <td>4</td>\n",
       "      <td>11</td>\n",
       "      <td>2</td>\n",
       "      <td>5.500000</td>\n",
       "      <td>4.041452</td>\n",
       "    </tr>\n",
       "    <tr>\n",
       "      <th rowspan=\"3\" valign=\"top\">7.0</th>\n",
       "      <th>1</th>\n",
       "      <td>9</td>\n",
       "      <td>16</td>\n",
       "      <td>0</td>\n",
       "      <td>5.000000</td>\n",
       "      <td>6.062178</td>\n",
       "    </tr>\n",
       "    <tr>\n",
       "      <th>2</th>\n",
       "      <td>17</td>\n",
       "      <td>21</td>\n",
       "      <td>0</td>\n",
       "      <td>8.647059</td>\n",
       "      <td>7.158397</td>\n",
       "    </tr>\n",
       "    <tr>\n",
       "      <th>3</th>\n",
       "      <td>5</td>\n",
       "      <td>3</td>\n",
       "      <td>0</td>\n",
       "      <td>1.400000</td>\n",
       "      <td>1.516575</td>\n",
       "    </tr>\n",
       "    <tr>\n",
       "      <th rowspan=\"4\" valign=\"top\">8.0</th>\n",
       "      <th>1</th>\n",
       "      <td>8</td>\n",
       "      <td>4</td>\n",
       "      <td>0</td>\n",
       "      <td>1.875000</td>\n",
       "      <td>1.457738</td>\n",
       "    </tr>\n",
       "    <tr>\n",
       "      <th>2</th>\n",
       "      <td>8</td>\n",
       "      <td>2</td>\n",
       "      <td>0</td>\n",
       "      <td>0.750000</td>\n",
       "      <td>0.886405</td>\n",
       "    </tr>\n",
       "    <tr>\n",
       "      <th>3</th>\n",
       "      <td>14</td>\n",
       "      <td>7</td>\n",
       "      <td>0</td>\n",
       "      <td>2.285714</td>\n",
       "      <td>2.524604</td>\n",
       "    </tr>\n",
       "    <tr>\n",
       "      <th>4</th>\n",
       "      <td>1</td>\n",
       "      <td>1</td>\n",
       "      <td>1</td>\n",
       "      <td>1.000000</td>\n",
       "      <td>NaN</td>\n",
       "    </tr>\n",
       "    <tr>\n",
       "      <th rowspan=\"2\" valign=\"top\">9.0</th>\n",
       "      <th>1</th>\n",
       "      <td>20</td>\n",
       "      <td>22</td>\n",
       "      <td>0</td>\n",
       "      <td>4.300000</td>\n",
       "      <td>6.375116</td>\n",
       "    </tr>\n",
       "    <tr>\n",
       "      <th>2</th>\n",
       "      <td>10</td>\n",
       "      <td>12</td>\n",
       "      <td>1</td>\n",
       "      <td>5.300000</td>\n",
       "      <td>3.945462</td>\n",
       "    </tr>\n",
       "    <tr>\n",
       "      <th rowspan=\"2\" valign=\"top\">10.0</th>\n",
       "      <th>1</th>\n",
       "      <td>23</td>\n",
       "      <td>19</td>\n",
       "      <td>0</td>\n",
       "      <td>5.391304</td>\n",
       "      <td>6.118074</td>\n",
       "    </tr>\n",
       "    <tr>\n",
       "      <th>2</th>\n",
       "      <td>8</td>\n",
       "      <td>7</td>\n",
       "      <td>1</td>\n",
       "      <td>3.250000</td>\n",
       "      <td>2.052873</td>\n",
       "    </tr>\n",
       "    <tr>\n",
       "      <th rowspan=\"3\" valign=\"top\">11.0</th>\n",
       "      <th>1</th>\n",
       "      <td>2</td>\n",
       "      <td>3</td>\n",
       "      <td>0</td>\n",
       "      <td>1.500000</td>\n",
       "      <td>2.121320</td>\n",
       "    </tr>\n",
       "    <tr>\n",
       "      <th>2</th>\n",
       "      <td>22</td>\n",
       "      <td>6</td>\n",
       "      <td>0</td>\n",
       "      <td>1.863636</td>\n",
       "      <td>1.726418</td>\n",
       "    </tr>\n",
       "    <tr>\n",
       "      <th>3</th>\n",
       "      <td>6</td>\n",
       "      <td>3</td>\n",
       "      <td>0</td>\n",
       "      <td>1.000000</td>\n",
       "      <td>1.549193</td>\n",
       "    </tr>\n",
       "    <tr>\n",
       "      <th rowspan=\"3\" valign=\"top\">12.0</th>\n",
       "      <th>1</th>\n",
       "      <td>7</td>\n",
       "      <td>10</td>\n",
       "      <td>1</td>\n",
       "      <td>5.428571</td>\n",
       "      <td>3.408672</td>\n",
       "    </tr>\n",
       "    <tr>\n",
       "      <th>2</th>\n",
       "      <td>14</td>\n",
       "      <td>7</td>\n",
       "      <td>0</td>\n",
       "      <td>3.500000</td>\n",
       "      <td>1.698416</td>\n",
       "    </tr>\n",
       "    <tr>\n",
       "      <th>3</th>\n",
       "      <td>10</td>\n",
       "      <td>4</td>\n",
       "      <td>0</td>\n",
       "      <td>0.800000</td>\n",
       "      <td>1.229273</td>\n",
       "    </tr>\n",
       "  </tbody>\n",
       "</table>\n",
       "</div>"
      ],
      "text/plain": [
       "                        instant casual                          \n",
       "                        nunique    max min       mean        std\n",
       "year   month weathersit                                         \n",
       "2011.0 1.0   1               12     29   0   8.166667   9.712535\n",
       "             2               16     47   0  14.250000  16.719250\n",
       "             3                3      9   0   5.000000   4.582576\n",
       "       2.0   1               18     13   0   4.166667   4.780475\n",
       "             2                6     20   1  10.833333   6.675827\n",
       "             3                4     19   0   8.000000   8.205689\n",
       "       3.0   1               30     18   0   5.633333   5.780367\n",
       "             2                1      5   5   5.000000        NaN\n",
       "       4.0   1               28     12   0   3.035714   3.271449\n",
       "             2                2      0   0   0.000000   0.000000\n",
       "       5.0   1               16     20   2   8.125000   5.162364\n",
       "             2               14     19   0   4.428571   5.445030\n",
       "             3                1      0   0   0.000000        NaN\n",
       "       6.0   1               11     12   0   5.000000   3.405877\n",
       "             2               15      9   0   3.600000   3.290679\n",
       "             3                4      0   0   0.000000   0.000000\n",
       "       7.0   1               31     13   0   1.935484   2.954494\n",
       "       8.0   1               15      4   0   1.400000   1.404076\n",
       "             2               16      5   0   2.125000   1.707825\n",
       "       9.0   1               16      5   0   1.312500   1.621471\n",
       "             2                8      6   0   2.875000   2.356602\n",
       "             3                6      1   0   0.500000   0.547723\n",
       "       10.0  1               29      5   0   1.241379   1.573331\n",
       "             2                2      4   2   3.000000   1.414214\n",
       "       11.0  1               24      9   0   2.458333   2.358687\n",
       "             2                6      2   0   1.000000   0.894427\n",
       "       12.0  1               20     35   0  13.700000  10.877790\n",
       "             2               11     33   0  11.363636  12.018924\n",
       "2012.0 1.0   1                6     23   4  10.833333   6.968979\n",
       "             2               20     21   0   5.250000   5.683540\n",
       "             3                5      4   0   2.000000   1.581139\n",
       "       2.0   1                5     11   4   7.800000   2.774887\n",
       "             2               21      5   0   1.142857   1.525966\n",
       "             3                3      1   0   0.666667   0.577350\n",
       "       3.0   1               17      6   0   2.294118   2.229482\n",
       "             2               14     12   0   4.785714   3.490175\n",
       "       4.0   1               21     11   0   3.523810   3.627934\n",
       "             2                7      3   0   0.571429   1.133893\n",
       "             3                2      0   0   0.000000   0.000000\n",
       "       5.0   1               26     24   0   6.923077   6.764159\n",
       "             2                5     10   0   3.400000   4.098780\n",
       "       6.0   1               26      9   0   3.961538   2.675530\n",
       "             2                4     11   2   5.500000   4.041452\n",
       "       7.0   1                9     16   0   5.000000   6.062178\n",
       "             2               17     21   0   8.647059   7.158397\n",
       "             3                5      3   0   1.400000   1.516575\n",
       "       8.0   1                8      4   0   1.875000   1.457738\n",
       "             2                8      2   0   0.750000   0.886405\n",
       "             3               14      7   0   2.285714   2.524604\n",
       "             4                1      1   1   1.000000        NaN\n",
       "       9.0   1               20     22   0   4.300000   6.375116\n",
       "             2               10     12   1   5.300000   3.945462\n",
       "       10.0  1               23     19   0   5.391304   6.118074\n",
       "             2                8      7   1   3.250000   2.052873\n",
       "       11.0  1                2      3   0   1.500000   2.121320\n",
       "             2               22      6   0   1.863636   1.726418\n",
       "             3                6      3   0   1.000000   1.549193\n",
       "       12.0  1                7     10   1   5.428571   3.408672\n",
       "             2               14      7   0   3.500000   1.698416\n",
       "             3               10      4   0   0.800000   1.229273"
      ]
     },
     "execution_count": 54,
     "metadata": {},
     "output_type": "execute_result"
    }
   ],
   "source": [
    "hour_df2.groupby(['year', 'month', 'weathersit']).agg({\n",
    "    \"instant\": \"nunique\",\n",
    "    \"casual\": [\"max\", \"min\", \"mean\", \"std\"]\n",
    "})"
   ]
  },
  {
   "cell_type": "markdown",
   "id": "4e2271c4-8b0e-4522-966f-6371228cf5f2",
   "metadata": {},
   "source": [
    "Based on the pivot table above, **Casual bike rentals** in **(Light Snow, Light Rain + Thunderstorm + Scattered clouds, Light Rain + Scattered clouds)** weather in **March and October** in 2011 and 2012 always had no demand."
   ]
  },
  {
   "cell_type": "markdown",
   "id": "f5eefbd5-75bd-4d8c-8f66-9436aa4a532f",
   "metadata": {},
   "source": [
    "## Visualization & Explanatory Analysis"
   ]
  },
  {
   "cell_type": "markdown",
   "id": "088adcac-46fa-4ae0-8403-23360cbedf83",
   "metadata": {},
   "source": [
    "#### Apakah terdapat korelasi antara acara lokal & kondisi cuaca dengan lonjakan penyewaan sepeda casual yang teramati dalam data outlier?"
   ]
  },
  {
   "cell_type": "code",
   "execution_count": 55,
   "id": "8f485c8a-41f5-4bab-9559-bd78b7379020",
   "metadata": {},
   "outputs": [
    {
     "name": "stderr",
     "output_type": "stream",
     "text": [
      "C:\\Users\\zadan\\AppData\\Local\\Temp\\ipykernel_21572\\2514798225.py:15: FutureWarning: \n",
      "\n",
      "Passing `palette` without assigning `hue` is deprecated and will be removed in v0.14.0. Assign the `x` variable to `hue` and set `legend=False` for the same effect.\n",
      "\n",
      "  sns.barplot(data=weather_rentals, x='weathersit', y='mean', palette='viridis')\n"
     ]
    },
    {
     "data": {
      "image/png": "[encoded data removed]",
      "text/plain": [
       "<Figure size 1200x600 with 1 Axes>"
      ]
     },
     "metadata": {},
     "output_type": "display_data"
    }
   ],
   "source": [
    "import matplotlib.pyplot as plt\n",
    "import seaborn as sns\n",
    "import pandas as pd\n",
    "\n",
    "# Assuming your dataframe is 'hour_df2'\n",
    "\n",
    "# First, group the data by 'weathersit' and calculate relevant statistics for casual rentals\n",
    "weather_rentals = hour_df2.groupby('weathersit')['casual'].agg(['max', 'min', 'mean', 'std']).reset_index()\n",
    "\n",
    "# Second, filter the data by months and years where we want to see the trends (March and October)\n",
    "monthly_rentals = hour_df2[(hour_df2['month'].isin([3, 10])) & (hour_df2['year'].isin([2011, 2012]))].groupby(['month', 'year', 'weathersit'])['casual'].sum().unstack()\n",
    "\n",
    "# Bar plot showing bike rentals per weather condition\n",
    "plt.figure(figsize=(12, 6))\n",
    "sns.barplot(data=weather_rentals, x='weathersit', y='mean', palette='viridis')\n",
    "plt.title('Average Casual Bike Rentals per Weather Condition')\n",
    "plt.xlabel('Weather Situation')\n",
    "plt.show()"
   ]
  },
  {
   "cell_type": "markdown",
   "id": "962ac998-1c14-4ae0-9844-1f6f90d6c12c",
   "metadata": {},
   "source": [
    "#### Bagaimana kondisi cuaca dapat memengaruhi peningkatan penyewaan sepeda, baik untuk pengguna casual maupun registered?"
   ]
  },
  {
   "cell_type": "code",
   "execution_count": 56,
   "id": "57ce3add-4df2-4803-978b-933255bf194b",
   "metadata": {},
   "outputs": [
    {
     "name": "stderr",
     "output_type": "stream",
     "text": [
      "C:\\Users\\zadan\\AppData\\Local\\Temp\\ipykernel_21572\\1882457490.py:10: FutureWarning: \n",
      "\n",
      "Passing `palette` without assigning `hue` is deprecated and will be removed in v0.14.0. Assign the `x` variable to `hue` and set `legend=False` for the same effect.\n",
      "\n",
      "  sns.barplot(data=weather_rentals, x='weathersit', y='mean', palette='viridis')\n"
     ]
    },
    {
     "data": {
      "image/png": "[encoded data removed]",
      "text/plain": [
       "<Figure size 1200x600 with 1 Axes>"
      ]
     },
     "metadata": {},
     "output_type": "display_data"
    }
   ],
   "source": [
    "import matplotlib.pyplot as plt\n",
    "import seaborn as sns\n",
    "\n",
    "# Aggregating data\n",
    "weather_rentals = day_df2.groupby('weathersit')['cnt'].agg(['max', 'min', 'mean', 'std'])\n",
    "weather_rentals = weather_rentals.reset_index()\n",
    "\n",
    "# Plotting\n",
    "plt.figure(figsize=(12, 6))\n",
    "sns.barplot(data=weather_rentals, x='weathersit', y='mean', palette='viridis')\n",
    "plt.title('Average Bike Rentals by Weather Situation')\n",
    "plt.xlabel('Weather Situation')\n",
    "plt.grid(axis='y')\n",
    "plt.show()\n"
   ]
  },
  {
   "cell_type": "code",
   "execution_count": 57,
   "id": "167df93f-1c54-4650-aa8c-559272034476",
   "metadata": {},
   "outputs": [
    {
     "name": "stderr",
     "output_type": "stream",
     "text": [
      "C:\\Users\\zadan\\AppData\\Local\\Temp\\ipykernel_21572\\2504002593.py:2: FutureWarning: \n",
      "\n",
      "Passing `palette` without assigning `hue` is deprecated and will be removed in v0.14.0. Assign the `x` variable to `hue` and set `legend=False` for the same effect.\n",
      "\n",
      "  sns.boxplot(data=day_df2, x='weathersit', y='cnt', palette='coolwarm')\n"
     ]
    },
    {
     "data": {
      "image/png": "[encoded data removed]",
      "text/plain": [
       "<Figure size 1200x600 with 1 Axes>"
      ]
     },
     "metadata": {},
     "output_type": "display_data"
    }
   ],
   "source": [
    "plt.figure(figsize=(12, 6))\n",
    "sns.boxplot(data=day_df2, x='weathersit', y='cnt', palette='coolwarm')\n",
    "plt.title('Distribution of Bike Rentals by Weather Situation')\n",
    "plt.xlabel('Weather Situation')\n",
    "plt.ylabel('')\n",
    "plt.grid(axis='y')\n",
    "plt.show()"
   ]
  },
  {
   "cell_type": "markdown",
   "id": "03cfbb59-f48d-45e1-ba37-cbcdb42dbe98",
   "metadata": {},
   "source": [
    "## Conclusion\n",
    "\n",
    "**Apakah terdapat korelasi antara acara lokal & kondisi cuaca dengan lonjakan penyewaan sepeda casual yang teramati dalam data outlier?**\n",
    "- Unfavorable weather impact. there is little to no demand for bike rentals during severe weather conditions like (heavy rain, thunderstorms, snow, or fog). This suggests that extreme weather acts as a deterrent for casual bike rentals.\n",
    "- Peak rental periods. The Highest bike rental activity occurs during the 8th, 9th, and 10th months (August, September, October) which is summer and fall. The data also shows a consistent spike starting from spring (May in 2011 and March in 2012). This seasonal trend reflects that bike rentals increase during warmer weather when outdoor activities are appealing.\n",
    "- Repetitive rentals in moderate weather. in conditions where weather are (light snow, light rain, scattered clouds), there is noticable repetition of renting a bike, contributing to 65% of the total rentals compared to clear weather conditions. This suggest that while not ideal, (light snow, light rain, scattered clouds) weather conditions are still acceptable for a significant portion.\n",
    "\n",
    "**Bagaimana kondisi cuaca dapat memengaruhi peningkatan penyewaan sepeda, baik untuk pengguna casual maupun registered?**\n",
    "- The increase in casual bike rentals tends to begin in the spring, with a noticeable spike starting in May 2011 and March 2012, suggesting that warmer and more comfortable spring weather boosts casual bike rentals.\n",
    "- Casual bike rentals are highest during clear weather, with conditions such as \"Clear,\" \"Few clouds,\" \"Partly Cloudy\" being most favorable for biking.\n",
    "- On the other hand, weather such as “Light Snow,” “Light Rain + Thunderstorm,” or even “Scattered clouds” can considerably dampen casual bike rental demands. Particularly in the months of March and October of 2011 and 2012, the demand for casual rental bicycles was zero under such weather conditions."
   ]
  },
  {
   "cell_type": "code",
   "execution_count": 58,
   "id": "f660ec18-6537-48e4-b5b6-bbeacd371712",
   "metadata": {},
   "outputs": [],
   "source": [
    "# day_df2.to_csv('day_clean.csv', index=False)\n",
    "# hour_df2.to_csv('hour_clean.csv', index=False)"
   ]
  }
 ],
 "metadata": {
  "kernelspec": {
   "display_name": "Python 3 (ipykernel)",
   "language": "python",
   "name": "python3"
  },
  "language_info": {
   "codemirror_mode": {
    "name": "ipython",
    "version": 3
   },
   "file_extension": ".py",
   "mimetype": "text/x-python",
   "name": "python",
   "nbconvert_exporter": "python",
   "pygments_lexer": "ipython3",
   "version": "3.11.9"
  }
 },
 "nbformat": 4,
 "nbformat_minor": 5
}
